{
 "cells": [
  {
   "cell_type": "code",
   "execution_count": 1,
   "id": "d7abb25f-698f-4018-bbe4-eb69ff2c7d1d",
   "metadata": {},
   "outputs": [
    {
     "data": {
      "text/plain": [
       "('txtfiles/Example1.txt', <http.client.HTTPMessage at 0x111c42990>)"
      ]
     },
     "execution_count": 1,
     "metadata": {},
     "output_type": "execute_result"
    }
   ],
   "source": [
    "## Uncomment these if working locally, else let the following code cell run.\n",
    "import urllib.request\n",
    "url = 'https://cf-courses-data.s3.us.cloud-object-storage.appdomain.cloud/IBMDeveloperSkillsNetwork-PY0101EN-SkillsNetwork/labs/Module%204/data/example1.txt'\n",
    "filename = 'txtfiles/Example1.txt'\n",
    "urllib.request.urlretrieve(url, filename)\n",
    "\n",
    "## Download Example file\n",
    "#!wget -0 txtfiles/Example1.txt https://cf-courses-data.s3.us.cloud-object-storage.appdomain.cloud/IBMDeveloperSkillsNetwork-PY0101EN-SkillsNetwork/labs/Module%204/data/example1.txt"
   ]
  },
  {
   "cell_type": "code",
   "execution_count": 3,
   "id": "99ff1a6e-d8ff-48c7-9a0d-52c2fd88c96e",
   "metadata": {},
   "outputs": [
    {
     "name": "stdout",
     "output_type": "stream",
     "text": [
      "txtfiles/example1.txt\n",
      "r\n",
      "<class '_io.TextIOWrapper'>\n",
      "--------------\n",
      "This is line 1 \n",
      "\n",
      "--------------\n",
      "This is line 2\n",
      "This is line 3\n",
      "done\n"
     ]
    },
    {
     "data": {
      "text/plain": [
       "True"
      ]
     },
     "execution_count": 3,
     "metadata": {},
     "output_type": "execute_result"
    }
   ],
   "source": [
    "import pandas as pd\n",
    "\n",
    "filename = \"txtfiles/example1.txt\"\n",
    "\n",
    "try:\n",
    "    with open(filename, 'r') as file:\n",
    "        \n",
    "        print(file.name)\n",
    "        print(file.mode)\n",
    "        print(type(file))\n",
    "        print(\"--------------\")\n",
    "        print(file.readline())\n",
    "        print(\"--------------\")\n",
    "        content = file.read()  # Read the content of the file\n",
    "        print(content)  # Print the content of the file\n",
    "except FileNotFoundError:\n",
    "    print(f\"File {filename} not found.\")\n",
    "\n",
    "print(\"done\")\n",
    "file.closed\n"
   ]
  },
  {
   "cell_type": "code",
   "execution_count": null,
   "id": "6d15b718-9caa-4a63-9bdd-d807f6dd8dfc",
   "metadata": {},
   "outputs": [],
   "source": [
    "## Reading Text Files"
   ]
  },
  {
   "cell_type": "code",
   "execution_count": null,
   "id": "a16a957f-8975-4b85-8d76-606c0a43edda",
   "metadata": {},
   "outputs": [],
   "source": [
    "with open('txtfiles/Example2.txt', 'w+') as testwritefile:\n",
    "    testwritefile.seek(0,0) #write at beginning of file\n",
    "    testwritefile.write(\"Line 4\" + \"\\n\")\n",
    "    testwritefile.write(\"Line 5\" + \"\\n\")\n",
    "    testwritefile.write(\"Line 6\" + \"\\n\")\n",
    "    testwritefile.write(\"Line 7\" + \"\\n\")\n",
    "    testwritefile.write(\"finished\\n\")\n",
    "    #Uncomment the line below\n",
    "    testwritefile.truncate()\n",
    "    testwritefile.seek(0,0)\n",
    "    print(testwritefile.read())"
   ]
  },
  {
   "cell_type": "code",
   "execution_count": null,
   "id": "a3b231ae-adb0-4c39-a66d-8ccbd7bae75d",
   "metadata": {},
   "outputs": [],
   "source": [
    "files = ['txtfiles/Example1.txt', 'txtfiles/Example2.txt']\n",
    "for file in files:\n",
    "    with open(file ,'r') as readfile:\n",
    "        with open('txtfiles/Example3.txt','a') as writefile:\n",
    "            for line in readfile:\n",
    "                writefile.write(line)\n",
    "            writefile.write(\"\\n\")"
   ]
  },
  {
   "cell_type": "markdown",
   "id": "02fa298f-1034-4b2e-a5f5-e7d8642f1444",
   "metadata": {},
   "source": [
    "Exercise "
   ]
  },
  {
   "cell_type": "markdown",
   "id": "cd7e1f90-3a80-4789-abb5-22ca0b4b564b",
   "metadata": {},
   "source": [
    "Your local university's Raptors fan club maintains a register of its active members on a .txt document. Every month they update the file by removing the members who are not active. You have been tasked with automating this with your Python skills.\n",
    "Given the file currentMem, Remove each member with a 'no' in their Active column. Keep track of each of the removed members and append them to the exMem file. Make sure that the format of the original files in preserved. (Hint: Do this by reading/writing whole lines and ensuring the header remains )\n",
    "Run the code block below prior to starting the exercise. The skeleton code has been provided for you. Edit only the cleanFiles function."
   ]
  },
  {
   "cell_type": "code",
   "execution_count": null,
   "id": "c0331193-188c-4908-a80c-f6c7b1f060dd",
   "metadata": {},
   "outputs": [],
   "source": [
    "#Run this prior to starting the exercise\n",
    "from random import randint as rnd\n",
    "\n",
    "memReg = 'txtfiles/exercise/members.txt'\n",
    "exReg = 'txtfiles/exercise/inactive.txt'\n",
    "fee =('yes','no')\n",
    "\n",
    "def genFiles(current,old):\n",
    "    with open(current,'w+') as writefile: \n",
    "        writefile.write('Membership No  Date Joined  Active  \\n')\n",
    "        data = \"{:^13}  {:<11}  {:<6}\\n\"\n",
    "\n",
    "        for rowno in range(20):\n",
    "            date = str(rnd(2015,2020))+ '-' + str(rnd(1,12))+'-'+str(rnd(1,25))\n",
    "            writefile.write(data.format(rnd(10000,99999),date,fee[rnd(0,1)]))\n",
    "\n",
    "\n",
    "    with open(old,'w+') as writefile: \n",
    "        writefile.write('Membership No  Date Joined  Active  \\n')\n",
    "        data = \"{:^13}  {:<11}  {:<6}\\n\"\n",
    "        for rowno in range(3):\n",
    "            date = str(rnd(2015,2020))+ '-' + str(rnd(1,12))+'-'+str(rnd(1,25))\n",
    "            writefile.write(data.format(rnd(10000,99999),date,fee[1]))\n",
    "\n",
    "\n",
    "genFiles(memReg,exReg)"
   ]
  },
  {
   "cell_type": "markdown",
   "id": "a7ee199d-e4d3-46e8-8476-de3494206e59",
   "metadata": {},
   "source": [
    "Now that you've run the prerequisite code cell above, which prepared the files for this exercise, you are ready to move on to the implementation.\n",
    "\n",
    "#### **Exercise:** Implement the cleanFiles function in the code cell below."
   ]
  },
  {
   "cell_type": "markdown",
   "id": "71212198-58eb-4b67-8a97-f160c4f46be3",
   "metadata": {},
   "source": [
    "'''\n",
    "The two arguments for this function are the files:\n",
    "    - currentMem: File containing list of current members\n",
    "    - exMem: File containing list of old members\n",
    "    \n",
    "    This function should remove all rows from currentMem containing 'no' \n",
    "    in the 'Active' column and appends them to exMem.\n",
    "    '''\n",
    "def cleanFiles(currentMem, exMem):\n",
    "    # TODO: Open the currentMem file as in r+ mode\n",
    "        #TODO: Open the exMem file in a+ mode\n",
    "\n",
    "        #TODO: Read each member in the currentMem (1 member per row) file into a list.\n",
    "        # Hint: Recall that the first line in the file is the header.\n",
    "\n",
    "        #TODO: iterate through the members and create a new list of the innactive members\n",
    "\n",
    "        # Go to the beginning of the currentMem file\n",
    "        # TODO: Iterate through the members list. \n",
    "        # If a member is inactive, add them to exMem, otherwise write them into currentMem\n",
    "\n",
    "        \n",
    "    \n",
    "    pass # Remove this line when done implementation\n",
    "\n",
    "\n",
    "# The code below is to help you view the files.\n",
    "# Do not modify this code for this exercise.\n",
    "memReg = '/members.txt'\n",
    "exReg = '/inactive.txt'\n",
    "cleanFiles(memReg,exReg)\n",
    "\n",
    "\n",
    "headers = \"Membership No  Date Joined  Active  \\n\"\n",
    "with open(memReg,'r') as readFile:\n",
    "    print(\"Active Members: \\n\\n\")\n",
    "    print(readFile.read())\n",
    "    \n",
    "with open(exReg,'r') as readFile:\n",
    "    print(\"Inactive Members: \\n\\n\")\n",
    "    print(readFile.read())"
   ]
  },
  {
   "cell_type": "code",
   "execution_count": null,
   "id": "cb2e31cf-83e7-403f-8af2-15c87d29abb2",
   "metadata": {},
   "outputs": [],
   "source": [
    "def cleanFiles(currentMem,exMem):\n",
    "    with open(currentMem,'r+') as writeFile: \n",
    "        with open(exMem,'a+') as appendFile:\n",
    "            #get the data\n",
    "            writeFile.seek(0)\n",
    "            members = writeFile.readlines()\n",
    "            #remove header\n",
    "            header = members[0]\n",
    "            members.pop(0)\n",
    "                \n",
    "            inactive = [member for member in members if ('no' in member)]\n",
    "            '''\n",
    "            The above is the same as \n",
    "\n",
    "            for member in members:\n",
    "            if 'no' in member:\n",
    "                inactive.append(member)\n",
    "            '''\n",
    "            #go to the beginning of the write file\n",
    "            writeFile.seek(0) \n",
    "            writeFile.write(header)\n",
    "            for member in members:\n",
    "                if (member in inactive):\n",
    "                    appendFile.write(member)\n",
    "                else:\n",
    "                    writeFile.write(member)      \n",
    "            writeFile.truncate()\n",
    "                \n",
    "memReg = 'txtfiles/exercise/members.txt'\n",
    "exReg = 'txtfiles/exercise/inactive.txt'\n",
    "cleanFiles(memReg,exReg)\n",
    "\n",
    "# code to help you see the files\n",
    "\n",
    "headers = \"Membership No  Date Joined  Active  \\n\"\n",
    "\n",
    "with open(memReg,'r') as readFile:\n",
    "    print(\"Active Members: \\n\\n\")\n",
    "    print(readFile.read())\n",
    "    \n",
    "with open(exReg,'r') as readFile:\n",
    "    print(\"Inactive Members: \\n\\n\")\n",
    "    print(readFile.read())"
   ]
  },
  {
   "cell_type": "markdown",
   "id": "c1faedb1-41d3-407e-b6b4-c8c91792b034",
   "metadata": {},
   "source": [
    "The code cell below is to verify your solution. Please do not modify the code and run it to test your implementation of cleanFiles."
   ]
  },
  {
   "cell_type": "code",
   "execution_count": null,
   "id": "99aa5530-c7d5-4f46-ad84-14201bf2ec06",
   "metadata": {
    "scrolled": true
   },
   "outputs": [],
   "source": [
    "def testMsg(passed):\n",
    "    if passed:\n",
    "       return 'Test Passed'\n",
    "    else :\n",
    "       return 'Test Failed'\n",
    "\n",
    "testWrite = \"txtfiles/exercise/testWrite.txt\"\n",
    "testAppend = \"txtfiles/exercise/testAppend.txt\" \n",
    "passed = True\n",
    "\n",
    "genFiles(testWrite,testAppend)\n",
    "\n",
    "with open(testWrite,'r') as file:\n",
    "    ogWrite = file.readlines()\n",
    "\n",
    "with open(testAppend,'r') as file:\n",
    "    ogAppend = file.readlines()\n",
    "\n",
    "try:\n",
    "    cleanFiles(testWrite,testAppend)\n",
    "except:\n",
    "    print('Error')\n",
    "\n",
    "with open(testWrite,'r') as file:\n",
    "    clWrite = file.readlines()\n",
    "\n",
    "with open(testAppend,'r') as file:\n",
    "    clAppend = file.readlines()\n",
    "        \n",
    "# checking if total no of rows is same, including headers\n",
    "\n",
    "if (len(ogWrite) + len(ogAppend) != len(clWrite) + len(clAppend)):\n",
    "    print(\"The number of rows do not add up. Make sure your final files have the same header and format.\")\n",
    "    passed = False\n",
    "    \n",
    "for line in clWrite:\n",
    "    if  'no' in line:\n",
    "        passed = False\n",
    "        print(\"Inactive members in file\")\n",
    "        break\n",
    "    else:\n",
    "        if line not in ogWrite:\n",
    "            print(\"Data in file does not match original file\")\n",
    "            passed = False\n",
    "print (\"{}\".format(testMsg(passed)))"
   ]
  },
  {
   "cell_type": "markdown",
   "id": "16c5337d-7fc7-42d2-ae38-046d28907415",
   "metadata": {},
   "source": [
    "# Practice Lab: Selecting data in a Dataframe"
   ]
  },
  {
   "cell_type": "markdown",
   "id": "3f3a9de2-8c48-418f-88cd-fddaca36c1ba",
   "metadata": {},
   "source": [
    "In this practice lab, we will learn how to create a DataFrame out of a dictionary"
   ]
  },
  {
   "cell_type": "code",
   "execution_count": null,
   "id": "c8d01773-6a48-4e53-960a-8188034d0290",
   "metadata": {},
   "outputs": [],
   "source": [
    "x = {'Name': ['Rose','John', 'Jane', 'Mary'], 'ID': [1, 2, 3, 4], 'Department': ['Architect Group', 'Software Group', 'Design Team', 'Infrastructure'], \n",
    "      'Salary':[100000, 80000, 50000, 60000]}"
   ]
  },
  {
   "cell_type": "code",
   "execution_count": null,
   "id": "7b72f5e3-e8af-4213-ad40-4851afe83e6f",
   "metadata": {},
   "outputs": [],
   "source": [
    "import pandas as pd\n",
    "# casting the dictionary to a Dataframe\n",
    "df = pd.DataFrame(x)"
   ]
  },
  {
   "cell_type": "code",
   "execution_count": null,
   "id": "0be76799-69a3-4328-929b-6b9e2389ced5",
   "metadata": {},
   "outputs": [],
   "source": [
    "print(df)"
   ]
  },
  {
   "cell_type": "markdown",
   "id": "a5c8712e-3fe1-49e7-8e38-21f22d2dcd12",
   "metadata": {},
   "source": [
    "# Column Selection\n",
    "To select a column in Pandas DataFrame, we can either access the columns by calling them by their columns name.\n",
    "\n",
    "Let's Retrieve the data present in the ID column."
   ]
  },
  {
   "cell_type": "code",
   "execution_count": null,
   "id": "72ec0084-cd0b-4586-9521-cbdcb48d51b2",
   "metadata": {},
   "outputs": [],
   "source": [
    "df2 = df[['ID']]\n",
    "print(y)"
   ]
  },
  {
   "cell_type": "code",
   "execution_count": null,
   "id": "e2c13dd9-2578-4033-bb46-f020dc745e31",
   "metadata": {},
   "outputs": [],
   "source": [
    "type(df2)"
   ]
  },
  {
   "cell_type": "code",
   "execution_count": null,
   "id": "f093aa9a-3743-4c61-b860-21661d3e6506",
   "metadata": {},
   "outputs": [],
   "source": [
    "# Access to multiple columns\n",
    "df3 = df[['Department', 'ID']]\n",
    "print(df3)"
   ]
  },
  {
   "cell_type": "code",
   "execution_count": null,
   "id": "ee8952f9-23b1-49ac-bbe4-b19efcd9f3b2",
   "metadata": {},
   "outputs": [],
   "source": [
    "# Try it yourself\n",
    "# Problem 1: Create a dataframe to display the result as below:\n",
    "dictionary = {'Student': ['David', 'Samuel', 'Terry', 'Evan'], 'Age': ['27', '24', '22', '32'], 'Country':['UK', 'Canada', 'China', 'USA'], 'Course':['Python', 'Data Structures', 'Machine Learning', 'Web Development'], 'Marks':['85','72','89','76']} \n"
   ]
  },
  {
   "cell_type": "code",
   "execution_count": null,
   "id": "0cc8d7b3-0fc8-4abc-baaa-6e6712465d12",
   "metadata": {},
   "outputs": [],
   "source": [
    "import pandas as pd\n",
    "df = pd.DataFrame(dictionary)\n",
    "print(df)"
   ]
  },
  {
   "cell_type": "code",
   "execution_count": null,
   "id": "4d11e093-bec3-48f9-9fdd-8fc9719acb62",
   "metadata": {},
   "outputs": [],
   "source": [
    "b = df[['Marks']]\n",
    "print(b)"
   ]
  },
  {
   "cell_type": "code",
   "execution_count": null,
   "id": "d6ff931e-294c-4238-bf6c-ce46db1764ce",
   "metadata": {},
   "outputs": [],
   "source": [
    "c = df[['Country', 'Course']]\n",
    "print(c)"
   ]
  },
  {
   "cell_type": "code",
   "execution_count": null,
   "id": "abd17b0a-9458-4cb3-9846-8d3ea82e3798",
   "metadata": {},
   "outputs": [],
   "source": [
    "# To view the column as a series, just use one bracket:\n",
    "series = df['Student']\n",
    "print(x)"
   ]
  },
  {
   "cell_type": "code",
   "execution_count": null,
   "id": "324d0f69-4894-49e6-b025-c40ee9dfc091",
   "metadata": {},
   "outputs": [],
   "source": [
    "### Exercise 2: loc() and iloc() functions"
   ]
  },
  {
   "cell_type": "code",
   "execution_count": null,
   "id": "bbe341ee-bda2-4459-9247-8378ae408a98",
   "metadata": {},
   "outputs": [],
   "source": [
    "# Access the value on the first row and the first column\n",
    "\n",
    "df.iloc[0, 0]"
   ]
  },
  {
   "cell_type": "code",
   "execution_count": null,
   "id": "d1ebf015-71cc-46df-ba4a-d35fe8fbb88e",
   "metadata": {},
   "outputs": [],
   "source": [
    "# Access the value on the first row and the third column\n",
    "\n",
    "df.iloc[0,2]"
   ]
  },
  {
   "cell_type": "code",
   "execution_count": null,
   "id": "aede96ea-525e-47fc-b06d-d5c47043b1ff",
   "metadata": {},
   "outputs": [],
   "source": [
    "x = {'Name': ['Rose','John', 'Jane', 'Mary'], 'ID': [1, 2, 3, 4], 'Department': ['Architect Group', 'Software Group', 'Design Team', 'Infrastructure'], \n",
    "      'Salary':[100000, 80000, 50000, 60000]}"
   ]
  },
  {
   "cell_type": "code",
   "execution_count": null,
   "id": "d6d2627c-9130-44b8-9633-fd3f74296917",
   "metadata": {},
   "outputs": [],
   "source": [
    "import pandas as pd\n",
    "# casting the dictionary to a Dataframe\n",
    "df = pd.DataFrame(x)\n",
    "print (df)"
   ]
  },
  {
   "cell_type": "code",
   "execution_count": null,
   "id": "b9a2f7d8-7945-4405-bf46-a3ea49c334dc",
   "metadata": {},
   "outputs": [],
   "source": [
    "# Access the column using the name\n",
    "\n",
    "print(df.loc[0, 'Salary'])"
   ]
  },
  {
   "cell_type": "markdown",
   "id": "06592737-c9b4-4932-b949-b6e773f64505",
   "metadata": {},
   "source": [
    "Let us create a new dataframe called 'df2' and assign 'df' to it. Now, let us set the \"Name\" column as an index column using the method set_index()."
   ]
  },
  {
   "cell_type": "code",
   "execution_count": null,
   "id": "5394ac7b-fc06-46e2-be65-65d4e1e818a7",
   "metadata": {},
   "outputs": [],
   "source": [
    "df2=df\n",
    "df2=df2.set_index(\"Name\")"
   ]
  },
  {
   "cell_type": "code",
   "execution_count": null,
   "id": "9b08412e-52cb-4e01-ac68-2b1e739ec291",
   "metadata": {},
   "outputs": [],
   "source": [
    "#To display the first 5 rows of new dataframe\n",
    "df2.head()"
   ]
  },
  {
   "cell_type": "code",
   "execution_count": null,
   "id": "eccebdb4-4e6f-4b06-8553-97a5f0f0c4a4",
   "metadata": {},
   "outputs": [],
   "source": [
    "#Now, let us access the column using the name\n",
    "print(df2.loc['Jane', 'Salary'])"
   ]
  },
  {
   "cell_type": "markdown",
   "id": "9526c6ce-1ebd-48a2-bc30-b6646dbb9ac1",
   "metadata": {},
   "source": [
    "Exercise 3: Slicing"
   ]
  },
  {
   "cell_type": "markdown",
   "id": "9d367c88-f4d6-4b91-8085-710434e8641e",
   "metadata": {},
   "source": [
    "Slicing uses the [] operator to select a set of rows and/or columns from a DataFrame.\n",
    "\n",
    "To slice out a set of rows, you use this syntax: data[start:stop],\n",
    "\n",
    "here the start represents the index from where to consider, and stop represents the index one step BEYOND the row you want to select. You can perform slicing using both the index and the name of the column.\n",
    "\n",
    "NOTE: When slicing in pandas, the start bound is included in the output.\n",
    "\n",
    "So if you want to select rows 0, 1, and 2 your code would look like this: df.iloc[0:3].\n",
    "\n",
    "It means you are telling Python to start at index 0 and select rows 0, 1, 2 up to but not including 3.\n",
    "\n",
    "NOTE: Labels must be found in the DataFrame or you will get a KeyError.\n",
    "\n",
    "Indexing by labels(i.e. using loc()) differs from indexing by integers (i.e. using iloc()). With loc(), both the start bound and the stop bound are inclusive. When using loc(), integers can be used, but the integers refer to the index label and not the position.\n",
    "\n",
    "For example, using loc() and select 1:4 will get a different result than using iloc() to select rows 1:4.\n",
    "\n",
    "We can also select a specific data value using a row and column location within the DataFrame and iloc indexing. "
   ]
  },
  {
   "cell_type": "code",
   "execution_count": null,
   "id": "7ca79adf-b426-49e9-9b23-ac1917f604fc",
   "metadata": {},
   "outputs": [],
   "source": [
    "# let us do the slicing using old dataframe df\n",
    "\n",
    "df.iloc[0:2, 0:3]"
   ]
  },
  {
   "cell_type": "code",
   "execution_count": null,
   "id": "07074ca3-5e6f-42cd-a33c-75c6bf2a9c73",
   "metadata": {},
   "outputs": [],
   "source": [
    "#let us do the slicing using loc() function on old dataframe df where index column is having labels as 0,1,2\n",
    "df.loc[0:2,'ID':'Department']"
   ]
  },
  {
   "cell_type": "code",
   "execution_count": null,
   "id": "bff080e9-f8aa-4bc9-a40c-36a0690d7a77",
   "metadata": {},
   "outputs": [],
   "source": [
    "#let us do the slicing using loc() function on new dataframe df2 where index column is Name having labels: Rose, John and Jane\n",
    "df2.loc['Rose':'Jane', 'ID':'Department']"
   ]
  },
  {
   "cell_type": "markdown",
   "id": "745cc447-42ab-47e8-b84e-7f81548b0ea9",
   "metadata": {},
   "source": [
    "Hands-on Lab: Loading data with Pandas\n",
    "Estimated time needed: 30 minutes\n",
    "\n",
    "Objectives\n",
    "After completing this lab you will be able to:\n",
    "\n",
    "Use Pandas to access and view data"
   ]
  },
  {
   "cell_type": "markdown",
   "id": "9ea83792-9116-4961-be4e-91a9b512932b",
   "metadata": {},
   "source": [
    "Table of Contents\n",
    "About the Dataset\n",
    "Introduction of Pandas\n",
    "Viewing Data and Accessing Data\n",
    "Quiz on DataFrame"
   ]
  },
  {
   "cell_type": "markdown",
   "id": "b8590fcb-d63d-489a-82ab-e8aace83e712",
   "metadata": {},
   "source": [
    "About the Dataset\n",
    "The table has one row for each product and several columns.\n",
    "\n",
    "OrderID: A unique identifier for each order\n",
    "Product: The name of the product purchased\n",
    "Category: The category to which the product belongs (e.g., Electronics, Furniture, Stationery)\n",
    "Quantity: The number of units purchased for that product\n",
    "Price: The price per unit of the product\n",
    "Total: The total cost for the product (calculated as Quantity × Price)\n",
    "OrderDate: The date when the order was placed\n",
    "CustomerCity: The city where the customer resides\n"
   ]
  },
  {
   "cell_type": "code",
   "execution_count": null,
   "id": "279e6665-28af-4f65-a9be-08a6e978d2b9",
   "metadata": {},
   "outputs": [],
   "source": [
    "import pandas as pd"
   ]
  },
  {
   "cell_type": "markdown",
   "id": "9e760d06-e120-4f8f-8436-4444b3a57c95",
   "metadata": {},
   "source": [
    "After the import command, we now have access to a large number of pre-built classes and functions. This assumes the library is installed; in our lab environment all the necessary libraries are installed. One way pandas allows you to work with data is a dataframe. Let's go through the process to go from a comma separated values (.csv) file to a dataframe. This variable csv_path stores the path of the .csv, that is used as an argument to the read_csv function. The result is stored in the object df, this is a common short form used for a variable referring to a Pandas dataframe."
   ]
  },
  {
   "cell_type": "code",
   "execution_count": null,
   "id": "1dea5f81-5901-4574-a1dc-af7c538ea332",
   "metadata": {},
   "outputs": [],
   "source": [
    "# Read data from CSV file\n",
    "import requests\n",
    "# Define the URL and filename\n",
    "url = \"https://cf-courses-data.s3.us.cloud-object-storage.appdomain.cloud/LXjSAttmoxJfEG6il1Bqfw/Product-sales.csv\"\n",
    "filename = \"Product-sales.csv\"\n",
    "\n",
    "# Download the file\n",
    "response = requests.get(url)\n",
    "with open(filename, \"wb\") as f:\n",
    "    f.write(response.content)\n",
    "\n",
    "# Read the CSV using pandas\n",
    "df = pd.read_csv(filename)\n",
    "\n",
    "# Show the first few rows\n",
    "print(df.head())"
   ]
  },
  {
   "cell_type": "code",
   "execution_count": null,
   "id": "dafb2b39-4cb6-4079-aa26-503bb6051724",
   "metadata": {},
   "outputs": [],
   "source": [
    "# Print first five rows of the dataframe\n",
    "\n",
    "df.head()"
   ]
  },
  {
   "cell_type": "code",
   "execution_count": null,
   "id": "c185cdeb-755a-4a83-a2c5-b4c27487148f",
   "metadata": {},
   "outputs": [],
   "source": [
    "# Print first five rows of the dataframe\n",
    "\n",
    "df.head(2)"
   ]
  },
  {
   "cell_type": "code",
   "execution_count": null,
   "id": "cfbcb4d1-ccd6-4ee3-86e9-1542d8de1e66",
   "metadata": {},
   "outputs": [],
   "source": [
    "# We can access the column Quantity and assign it a new dataframe x:\n",
    "# Access to the column Length\n",
    "\n",
    "x = df[['Quantity']]\n",
    "x"
   ]
  },
  {
   "cell_type": "markdown",
   "id": "ed735dbc-8ad8-4c18-96ca-c370b59064c5",
   "metadata": {},
   "source": [
    "Viewing Data and Accessing Data"
   ]
  },
  {
   "cell_type": "code",
   "execution_count": null,
   "id": "61d39cae-0d12-490d-9f16-27e0af34ea16",
   "metadata": {},
   "outputs": [],
   "source": [
    "# Get the column as a series\n",
    "\n",
    "x = df['Product']\n",
    "x"
   ]
  },
  {
   "cell_type": "code",
   "execution_count": null,
   "id": "7550a77f-45e6-47fc-abf5-ed8f6005f1be",
   "metadata": {},
   "outputs": [],
   "source": [
    "# Get the column as a dataframe\n",
    "\n",
    "x = df[['Quantity']]\n",
    "type(x)\n",
    "print(x)"
   ]
  },
  {
   "cell_type": "markdown",
   "id": "1f17419e-ab1b-4fff-9b16-3d68520687b4",
   "metadata": {},
   "source": [
    "You can do the same thing for multiple columns; we just put the dataframe name, in this case, df, and the name of the multiple column headers enclosed in double brackets. The result is a new dataframe comprised of the specified columns:"
   ]
  },
  {
   "cell_type": "code",
   "execution_count": null,
   "id": "0388020e-2e1d-4316-a072-a620ae531ff4",
   "metadata": {},
   "outputs": [],
   "source": [
    "# Access to multiple columns\n",
    "\n",
    "y = df[['Product','Category', 'Quantity']]\n",
    "y"
   ]
  },
  {
   "cell_type": "markdown",
   "id": "1cccb6e7-8439-41d6-bc93-cfc58e356c0c",
   "metadata": {},
   "source": [
    "One way to access unique elements is the iloc method, where you can access the 1st row and the 1st column as follows:"
   ]
  },
  {
   "cell_type": "code",
   "execution_count": null,
   "id": "eeb29045-ee2e-4edc-b824-1785e8906b2e",
   "metadata": {},
   "outputs": [],
   "source": [
    "# Access the value on the first row and the first column\n",
    "\n",
    "df.iloc[0, 0]"
   ]
  },
  {
   "cell_type": "markdown",
   "id": "3e329bfd-632d-4bb8-8e81-16fb3c39a72b",
   "metadata": {},
   "source": [
    "You can access the 2nd row and the 1st column as follows:\n"
   ]
  },
  {
   "cell_type": "code",
   "execution_count": null,
   "id": "cb6903d4-2990-44af-8291-cd08c1d7713b",
   "metadata": {},
   "outputs": [],
   "source": [
    "# Access the value on the first row and the third column\n",
    "\n",
    "df.iloc[0,2]"
   ]
  },
  {
   "cell_type": "code",
   "execution_count": null,
   "id": "20288bf0-e923-4ad3-9cf4-13b75cd646dc",
   "metadata": {},
   "outputs": [],
   "source": [
    "print(df)"
   ]
  },
  {
   "cell_type": "code",
   "execution_count": null,
   "id": "7be040b1-24a1-4eae-9d18-cad6c2e6f724",
   "metadata": {},
   "outputs": [],
   "source": [
    "# Access the value on the second row and the third column\n",
    "df.iloc[2,2]"
   ]
  },
  {
   "cell_type": "markdown",
   "id": "7869e8c2-c604-4830-8a44-8d83fd3003d1",
   "metadata": {},
   "source": [
    "You can access the column using the name as well, the following are the same as above:"
   ]
  },
  {
   "cell_type": "code",
   "execution_count": null,
   "id": "84b90f4a-35db-49f9-bf38-5a5265bf0512",
   "metadata": {},
   "outputs": [],
   "source": [
    "# Access the column using the name\n",
    "\n",
    "df.loc[0, 'Product']"
   ]
  },
  {
   "cell_type": "code",
   "execution_count": null,
   "id": "3068a4a4-0d10-4c50-a8c0-0152fc21e319",
   "metadata": {},
   "outputs": [],
   "source": [
    "# Access the column using the name\n",
    "\n",
    "df.loc[1, 'Product']"
   ]
  },
  {
   "cell_type": "code",
   "execution_count": null,
   "id": "bff5ac48-311d-44c3-b74a-ce29ce8b764c",
   "metadata": {},
   "outputs": [],
   "source": [
    "# Access the column using the name\n",
    "\n",
    "df.loc[1, 'CustomerCity']"
   ]
  },
  {
   "cell_type": "code",
   "execution_count": null,
   "id": "43872cd1-8861-4c17-bcf7-3e66b1a400ba",
   "metadata": {},
   "outputs": [],
   "source": [
    "# Access the column using the name\n",
    "\n",
    "df.loc[1, 'Total']"
   ]
  },
  {
   "cell_type": "markdown",
   "id": "4bfbc35b-9ba4-43ee-8da8-e57ebf455122",
   "metadata": {},
   "source": [
    "You can perform slicing using both the index and the name of the column:\n"
   ]
  },
  {
   "cell_type": "code",
   "execution_count": null,
   "id": "cf63dde1-ae02-484d-b1bc-96764bda6e4c",
   "metadata": {},
   "outputs": [],
   "source": [
    "# Slicing the dataframe\n",
    "\n",
    "df.iloc[0:2, 0:3]"
   ]
  },
  {
   "cell_type": "code",
   "execution_count": null,
   "id": "bfcee310-a616-4289-8986-aa20c8a3b313",
   "metadata": {},
   "outputs": [],
   "source": [
    "# Slicing the dataframe using name\n",
    "\n",
    "df.loc[0:2, 'OrderID':'Category']"
   ]
  },
  {
   "cell_type": "code",
   "execution_count": null,
   "id": "d2ad6886-1d79-4656-b783-9062a794f2c0",
   "metadata": {},
   "outputs": [],
   "source": [
    "import matplotlib.pyplot as plt"
   ]
  },
  {
   "cell_type": "markdown",
   "id": "e6c968bc-ef5b-44e3-b01f-1caa55e3c835",
   "metadata": {},
   "source": [
    "1D Numpy in Python\n",
    "Estimated time needed: 40 minutes\n",
    "\n",
    "Objectives\n",
    "After completing this lab you will be able to:\n",
    "\n",
    "Import and use the numpy library\n",
    "Perform operations with numpy"
   ]
  },
  {
   "cell_type": "markdown",
   "id": "2f5c5b8a-ec1d-4b17-80f2-37c1e7f72a1e",
   "metadata": {},
   "source": [
    "What is Numpy?\n",
    "NumPy is a Python library used for working with arrays, linear algebra, fourier transform, and matrices. NumPy stands for Numerical Python and it is an open source project. The array object in NumPy is called ndarray, it provides a lot of supporting functions that make working with ndarray very easy.\n",
    "\n",
    "Arrays are very frequently used in data science, where speed and resources are very important.\n",
    "\n",
    "NumPy is usually imported under the np alias.\n",
    "\n",
    "It's usually fixed in size and each element is of the same type. We can cast a list to a numpy array by first importing numpy:"
   ]
  },
  {
   "cell_type": "code",
   "execution_count": 5,
   "id": "35faffd2-9d6e-4a01-90de-a5361d804bce",
   "metadata": {},
   "outputs": [
    {
     "name": "stdout",
     "output_type": "stream",
     "text": [
      "a[0]: 0\n",
      "a[1]: 1\n",
      "a[2]: 2\n",
      "a[3]: 3\n",
      "a[4]: 4\n"
     ]
    }
   ],
   "source": [
    "# import numpy library\n",
    "\n",
    "import numpy as np \n",
    "# Create a numpy array\n",
    "\n",
    "a = np.array([0, 1, 2, 3, 4])\n",
    "# Print each element\n",
    "\n",
    "print(\"a[0]:\", a[0])\n",
    "print(\"a[1]:\", a[1])\n",
    "print(\"a[2]:\", a[2])\n",
    "print(\"a[3]:\", a[3])\n",
    "print(\"a[4]:\", a[4])"
   ]
  },
  {
   "cell_type": "code",
   "execution_count": 6,
   "id": "992d4c8d-c29b-4ed1-ae7b-3b189da33129",
   "metadata": {},
   "outputs": [
    {
     "name": "stdout",
     "output_type": "stream",
     "text": [
      "2.2.5\n"
     ]
    }
   ],
   "source": [
    "print(np.__version__)"
   ]
  },
  {
   "cell_type": "code",
   "execution_count": 8,
   "id": "a2c2cd7d-e507-4d60-813d-6071cc895d8c",
   "metadata": {},
   "outputs": [
    {
     "data": {
      "text/plain": [
       "numpy.ndarray"
      ]
     },
     "execution_count": 8,
     "metadata": {},
     "output_type": "execute_result"
    }
   ],
   "source": [
    "# Type\n",
    "# If we check the type of the array we get numpy.ndarray:\n",
    "# Check the type of the array\n",
    "\n",
    "type(a)"
   ]
  },
  {
   "cell_type": "markdown",
   "id": "ae216eaa-7859-4ae0-bf31-290322001994",
   "metadata": {},
   "source": [
    "As numpy arrays contain data of the same type, we can use the attribute \"dtype\" to obtain the data type of the array’s elements. In this case, it's a 64-bit integer:"
   ]
  },
  {
   "cell_type": "code",
   "execution_count": 9,
   "id": "c3f44d65-bea9-407c-8a4e-4f131ae38816",
   "metadata": {},
   "outputs": [
    {
     "data": {
      "text/plain": [
       "dtype('int64')"
      ]
     },
     "execution_count": 9,
     "metadata": {},
     "output_type": "execute_result"
    }
   ],
   "source": [
    "# Check the type of the values stored in numpy array\n",
    "\n",
    "a.dtype"
   ]
  },
  {
   "cell_type": "markdown",
   "id": "bc38930d-9ab8-4d59-993c-98029454f3fe",
   "metadata": {},
   "source": [
    "Slicing\n",
    "Like lists, we can slice the numpy array. Slicing in python means taking the elements from the given index to another given index.\n",
    "\n",
    "We pass slice like this: [start:end].The element at end index is not being included in the output.\n",
    "\n",
    "We can select the elements from 1 to 3 and assign it to a new numpy array d as follows:"
   ]
  },
  {
   "cell_type": "code",
   "execution_count": 11,
   "id": "7b4bd18c-6651-44dd-99a1-15dcdfa38ff4",
   "metadata": {},
   "outputs": [
    {
     "data": {
      "text/plain": [
       "array([1, 2, 3])"
      ]
     },
     "execution_count": 11,
     "metadata": {},
     "output_type": "execute_result"
    }
   ],
   "source": [
    "# Slicing the numpy array\n",
    "c = np.array([20, 1, 2, 3, 4])\n",
    "d = c[1:4]\n",
    "d"
   ]
  },
  {
   "cell_type": "code",
   "execution_count": 12,
   "id": "e1b74050-9061-47c3-bd65-c9f9e5745abd",
   "metadata": {},
   "outputs": [
    {
     "data": {
      "text/plain": [
       "array([ 20,   1,   2, 300, 400])"
      ]
     },
     "execution_count": 12,
     "metadata": {},
     "output_type": "execute_result"
    }
   ],
   "source": [
    "# Set the fourth element and fifth element to 300 and 400\n",
    "\n",
    "c[3:5] = 300, 400\n",
    "c"
   ]
  },
  {
   "cell_type": "code",
   "execution_count": 13,
   "id": "c7c9f116-a891-4a6b-bb49-87adef72733d",
   "metadata": {},
   "outputs": [
    {
     "name": "stdout",
     "output_type": "stream",
     "text": [
      "[2 4]\n"
     ]
    }
   ],
   "source": [
    "# We can also define the steps in slicing, like this: [start:end:step].\n",
    "arr = np.array([1, 2, 3, 4, 5, 6, 7])\n",
    "\n",
    "print(arr[1:5:2])"
   ]
  },
  {
   "cell_type": "code",
   "execution_count": 14,
   "id": "cf48f7f7-0053-4f83-a17c-8013889b07a7",
   "metadata": {},
   "outputs": [
    {
     "name": "stdout",
     "output_type": "stream",
     "text": [
      "[1 2 3 4]\n"
     ]
    }
   ],
   "source": [
    "# If we don't pass start its considered 0\n",
    "print(arr[:4])"
   ]
  },
  {
   "cell_type": "code",
   "execution_count": 15,
   "id": "d403885b-d1e5-44af-bd87-09770ba9b5b2",
   "metadata": {},
   "outputs": [
    {
     "name": "stdout",
     "output_type": "stream",
     "text": [
      "[5 6 7]\n"
     ]
    }
   ],
   "source": [
    "# If we don't pass end it considers till the length of array.\n",
    "print(arr[4:])"
   ]
  },
  {
   "cell_type": "code",
   "execution_count": 16,
   "id": "77cbb0aa-9b6b-435a-afbc-9d8e115d595f",
   "metadata": {},
   "outputs": [
    {
     "name": "stdout",
     "output_type": "stream",
     "text": [
      "[2 3 4 5]\n"
     ]
    }
   ],
   "source": [
    "# If we don't pass step its considered 1\n",
    "print(arr[1:5:])"
   ]
  },
  {
   "cell_type": "markdown",
   "id": "0057eb0b-0e00-4ed3-892b-3dea75dd7cbf",
   "metadata": {},
   "source": [
    "Assign Value with List\n",
    "Similarly, we can use a list to select more than one specific index. The list select contains several values:"
   ]
  },
  {
   "cell_type": "code",
   "execution_count": 23,
   "id": "0d7a83e4-585b-4c54-9636-92252309cbb0",
   "metadata": {},
   "outputs": [
    {
     "data": {
      "text/plain": [
       "[0, 2, 3, 4]"
      ]
     },
     "execution_count": 23,
     "metadata": {},
     "output_type": "execute_result"
    }
   ],
   "source": [
    "# Create the index list\n",
    "\n",
    "select = [0, 2, 3, 4]\n",
    "select"
   ]
  },
  {
   "cell_type": "markdown",
   "id": "c4107829-4643-436d-bbe3-304b699f40b9",
   "metadata": {},
   "source": [
    "# We can use the list as an argument in the brackets. The output is the elements corresponding to the particular indexes:\n"
   ]
  },
  {
   "cell_type": "code",
   "execution_count": 24,
   "id": "3171a9e9-2c67-4b69-88ef-4b06dc4419d3",
   "metadata": {},
   "outputs": [
    {
     "data": {
      "text/plain": [
       "array([100000, 100000, 100000, 100000])"
      ]
     },
     "execution_count": 24,
     "metadata": {},
     "output_type": "execute_result"
    }
   ],
   "source": [
    "# Use List to select elements\n",
    "\n",
    "d = c[select]\n",
    "d"
   ]
  },
  {
   "cell_type": "markdown",
   "id": "860f507f-078b-401b-bd08-5045acfcadb3",
   "metadata": {},
   "source": [
    "We can assign the specified elements to a new value. For example, we can assign the values to 100 000 as follows:"
   ]
  },
  {
   "cell_type": "code",
   "execution_count": 25,
   "id": "d1b14157-0e02-4f28-a859-9cf5682f62c0",
   "metadata": {},
   "outputs": [
    {
     "data": {
      "text/plain": [
       "array([100000,      1, 100000, 100000, 100000])"
      ]
     },
     "execution_count": 25,
     "metadata": {},
     "output_type": "execute_result"
    }
   ],
   "source": [
    "# Assign the specified elements to new value\n",
    "\n",
    "c[select] = 100000\n",
    "c"
   ]
  },
  {
   "cell_type": "code",
   "execution_count": 26,
   "id": "b6c03127-4c9f-4067-9983-b41993a17e3b",
   "metadata": {},
   "outputs": [
    {
     "name": "stdout",
     "output_type": "stream",
     "text": [
      "[100000 100000 100000 100000]\n"
     ]
    }
   ],
   "source": [
    "print(d)"
   ]
  },
  {
   "cell_type": "markdown",
   "id": "f7fbeed0-2844-4980-a3e4-a331d0d3a85c",
   "metadata": {},
   "source": [
    "### Other Attributes\n",
    "Let's review some basic array attributes using the array a:"
   ]
  },
  {
   "cell_type": "code",
   "execution_count": 27,
   "id": "d5428abf-9375-4ed0-8bcd-76afe5b5dc2f",
   "metadata": {},
   "outputs": [
    {
     "data": {
      "text/plain": [
       "array([0, 1, 2, 3, 4])"
      ]
     },
     "execution_count": 27,
     "metadata": {},
     "output_type": "execute_result"
    }
   ],
   "source": [
    "# Create a numpy array\n",
    "\n",
    "a = np.array([0, 1, 2, 3, 4])\n",
    "a"
   ]
  },
  {
   "cell_type": "code",
   "execution_count": 28,
   "id": "8e92832e-7152-41c4-97eb-b06ee00d673f",
   "metadata": {},
   "outputs": [
    {
     "data": {
      "text/plain": [
       "5"
      ]
     },
     "execution_count": 28,
     "metadata": {},
     "output_type": "execute_result"
    }
   ],
   "source": [
    "# The attribute size is the number of elements in the array:\n",
    "# Get the size of numpy array\n",
    "\n",
    "a.size"
   ]
  },
  {
   "cell_type": "markdown",
   "id": "e37745ca-ba97-408b-b8ba-cde79923ede2",
   "metadata": {},
   "source": [
    "The next two attributes will make more sense when we get to higher dimensions but let's review them. The attribute ndim represents the number of array dimensions, or the rank of the array. In this case, one:"
   ]
  },
  {
   "cell_type": "code",
   "execution_count": 29,
   "id": "8b1788cb-854d-41bc-a545-7be98c65ab3b",
   "metadata": {},
   "outputs": [
    {
     "data": {
      "text/plain": [
       "1"
      ]
     },
     "execution_count": 29,
     "metadata": {},
     "output_type": "execute_result"
    }
   ],
   "source": [
    "# Get the number of dimensions of numpy array\n",
    "\n",
    "a.ndim"
   ]
  },
  {
   "cell_type": "code",
   "execution_count": 30,
   "id": "295c8e08-752b-4906-a2cf-4056dc8d18d4",
   "metadata": {},
   "outputs": [
    {
     "data": {
      "text/plain": [
       "(5,)"
      ]
     },
     "execution_count": 30,
     "metadata": {},
     "output_type": "execute_result"
    }
   ],
   "source": [
    "# Get the shape/size of numpy array\n",
    "\n",
    "a.shape"
   ]
  },
  {
   "cell_type": "markdown",
   "id": "e48aa39d-00c5-4d8d-8e51-880cf1d6cf8f",
   "metadata": {},
   "source": [
    "Numpy Statistical Functions"
   ]
  },
  {
   "cell_type": "code",
   "execution_count": 31,
   "id": "d6634e41-ed4c-4c9a-bef3-6b5292befbcd",
   "metadata": {},
   "outputs": [],
   "source": [
    "# Create a numpy array\n",
    "\n",
    "a = np.array([1, -1, 1, -1])"
   ]
  },
  {
   "cell_type": "code",
   "execution_count": 32,
   "id": "30e542b2-74e9-4ba2-bfa5-42de08762576",
   "metadata": {},
   "outputs": [
    {
     "data": {
      "text/plain": [
       "np.float64(0.0)"
      ]
     },
     "execution_count": 32,
     "metadata": {},
     "output_type": "execute_result"
    }
   ],
   "source": [
    "# Get the mean of numpy array\n",
    "\n",
    "mean = a.mean()\n",
    "mean"
   ]
  },
  {
   "cell_type": "code",
   "execution_count": 33,
   "id": "8bffc42e-42ef-431f-87c2-c591cab1804b",
   "metadata": {},
   "outputs": [
    {
     "data": {
      "text/plain": [
       "np.float64(1.0)"
      ]
     },
     "execution_count": 33,
     "metadata": {},
     "output_type": "execute_result"
    }
   ],
   "source": [
    "# Get the standard deviation of numpy array\n",
    "\n",
    "standard_deviation=a.std()\n",
    "standard_deviation"
   ]
  },
  {
   "cell_type": "code",
   "execution_count": 34,
   "id": "c50befd6-387b-4b3e-97ae-657617af00e1",
   "metadata": {},
   "outputs": [
    {
     "data": {
      "text/plain": [
       "array([-1,  2,  3,  4,  5])"
      ]
     },
     "execution_count": 34,
     "metadata": {},
     "output_type": "execute_result"
    }
   ],
   "source": [
    "# Create a numpy array\n",
    "\n",
    "b = np.array([-1, 2, 3, 4, 5])\n",
    "b"
   ]
  },
  {
   "cell_type": "code",
   "execution_count": 35,
   "id": "adb4dd70-36a9-41f9-8ce5-b27f16110759",
   "metadata": {},
   "outputs": [
    {
     "data": {
      "text/plain": [
       "np.int64(5)"
      ]
     },
     "execution_count": 35,
     "metadata": {},
     "output_type": "execute_result"
    }
   ],
   "source": [
    "# Get the biggest value in the numpy array\n",
    "\n",
    "max_b = b.max()\n",
    "max_b"
   ]
  },
  {
   "cell_type": "code",
   "execution_count": 36,
   "id": "a1670d07-a0ae-4395-82d6-72a42d41f749",
   "metadata": {},
   "outputs": [
    {
     "data": {
      "text/plain": [
       "np.int64(-1)"
      ]
     },
     "execution_count": 36,
     "metadata": {},
     "output_type": "execute_result"
    }
   ],
   "source": [
    "# Get the smallest value in the numpy array\n",
    "\n",
    "min_b = b.min()\n",
    "min_b"
   ]
  },
  {
   "cell_type": "markdown",
   "id": "64a4f48a-b654-4d70-b1dc-6736e4faee0a",
   "metadata": {},
   "source": [
    "Numpy Array Operations¶\n",
    "You could use arithmetic operators directly between NumPy arrays"
   ]
  },
  {
   "cell_type": "markdown",
   "id": "bd34115d-ebf2-4080-8d4b-fed87195fa57",
   "metadata": {},
   "source": [
    "Array Addition\n",
    "Consider the numpy array u:"
   ]
  },
  {
   "cell_type": "code",
   "execution_count": 37,
   "id": "84f6a408-310c-47e8-83cd-1339c22d8eb3",
   "metadata": {},
   "outputs": [
    {
     "data": {
      "text/plain": [
       "array([1, 0])"
      ]
     },
     "execution_count": 37,
     "metadata": {},
     "output_type": "execute_result"
    }
   ],
   "source": [
    "u = np.array([1, 0])\n",
    "u"
   ]
  },
  {
   "cell_type": "code",
   "execution_count": 38,
   "id": "2fb98fca-e760-486b-b2e0-99ea3705b25d",
   "metadata": {},
   "outputs": [
    {
     "data": {
      "text/plain": [
       "array([0, 1])"
      ]
     },
     "execution_count": 38,
     "metadata": {},
     "output_type": "execute_result"
    }
   ],
   "source": [
    "# Consider the numpy array v:\n",
    "v = np.array([0, 1])\n",
    "v"
   ]
  },
  {
   "cell_type": "code",
   "execution_count": 39,
   "id": "cd116101-befe-4cd7-b346-d790f9f8aa72",
   "metadata": {},
   "outputs": [
    {
     "data": {
      "text/plain": [
       "array([1, 1])"
      ]
     },
     "execution_count": 39,
     "metadata": {},
     "output_type": "execute_result"
    }
   ],
   "source": [
    "# We can add the two arrays and assign it to z:\n",
    "# Numpy Array Addition\n",
    "\n",
    "z = np.add(u, v)\n",
    "z"
   ]
  },
  {
   "cell_type": "code",
   "execution_count": null,
   "id": "9d0bef1d-44c7-47ee-b704-03bf06e5fcf6",
   "metadata": {},
   "outputs": [],
   "source": [
    "# The operation is equivalent to vector addition:\n"
   ]
  },
  {
   "cell_type": "code",
   "execution_count": 40,
   "id": "b35131ea-ad40-4374-90eb-345866cadabf",
   "metadata": {},
   "outputs": [],
   "source": [
    "# Plotting functions\n",
    "\n",
    "\n",
    "import time \n",
    "import sys\n",
    "import numpy as np \n",
    "\n",
    "import matplotlib.pyplot as plt\n",
    "\n",
    "\n",
    "def Plotvec1(u, z, v):\n",
    "    \n",
    "    ax = plt.axes() # to generate the full window axes\n",
    "    ax.arrow(0, 0, *u, head_width=0.05, color='r', head_length=0.1)# Add an arrow to the  U Axes with arrow head width 0.05, color red and arrow head length 0.1\n",
    "    plt.text(*(u + 0.1), 'u')#Adds the text u to the Axes \n",
    "    \n",
    "    ax.arrow(0, 0, *v, head_width=0.05, color='b', head_length=0.1)# Add an arrow to the  v Axes with arrow head width 0.05, color red and arrow head length 0.1\n",
    "    plt.text(*(v + 0.1), 'v')#Adds the text v to the Axes \n",
    "    \n",
    "    ax.arrow(0, 0, *z, head_width=0.05, head_length=0.1)\n",
    "    plt.text(*(z + 0.1), 'z')#Adds the text z to the Axes \n",
    "    plt.ylim(-2, 2)#set the ylim to bottom(-2), top(2)\n",
    "    plt.xlim(-2, 2)#set the xlim to left(-2), right(2)\n",
    "\n",
    "  \n"
   ]
  },
  {
   "cell_type": "code",
   "execution_count": 41,
   "id": "21274b46-4f79-4369-80cb-e7ca4f07626f",
   "metadata": {},
   "outputs": [
    {
     "data": {
      "image/png": "[encoded data removed]",
      "text/plain": [
       "<Figure size 640x480 with 1 Axes>"
      ]
     },
     "metadata": {},
     "output_type": "display_data"
    }
   ],
   "source": [
    "# Plot numpy arrays\n",
    "\n",
    "Plotvec1(u, z, v)"
   ]
  },
  {
   "cell_type": "markdown",
   "id": "fa856578-8168-4da8-9b2f-88034e6c0bbf",
   "metadata": {},
   "source": [
    "Try it yourself\n",
    "Perform addition operation on the given numpy array arr1 and arr2:"
   ]
  },
  {
   "cell_type": "code",
   "execution_count": 43,
   "id": "f0ef5223-b981-433c-bf80-62eaa469f475",
   "metadata": {},
   "outputs": [
    {
     "data": {
      "text/plain": [
       "array([30, 32, 34, 36, 38, 40])"
      ]
     },
     "execution_count": 43,
     "metadata": {},
     "output_type": "execute_result"
    }
   ],
   "source": [
    "arr1 = np.array([10, 11, 12, 13, 14, 15])\n",
    "arr2 = np.array([20, 21, 22, 23, 24, 25])\n",
    "\n",
    "# Enter your code here\n",
    "arr3 = np.add(arr1, arr2)\n",
    "arr3"
   ]
  },
  {
   "cell_type": "markdown",
   "id": "4112bd96-2ea9-4acd-a3b7-032f21a5087c",
   "metadata": {},
   "source": [
    "Array Subtraction\n",
    "Consider the numpy array a:"
   ]
  },
  {
   "cell_type": "code",
   "execution_count": 44,
   "id": "d741abf3-b6c5-4ebb-8aa9-833a9cbccd7c",
   "metadata": {},
   "outputs": [
    {
     "data": {
      "text/plain": [
       "array([10, 20, 30])"
      ]
     },
     "execution_count": 44,
     "metadata": {},
     "output_type": "execute_result"
    }
   ],
   "source": [
    "a = np.array([10, 20, 30])\n",
    "a"
   ]
  },
  {
   "cell_type": "code",
   "execution_count": 45,
   "id": "4edcf41d-ade0-42f3-a783-e1133fa09039",
   "metadata": {},
   "outputs": [
    {
     "data": {
      "text/plain": [
       "array([ 5, 10, 15])"
      ]
     },
     "execution_count": 45,
     "metadata": {},
     "output_type": "execute_result"
    }
   ],
   "source": [
    "# Consider the numpy array b:\n",
    "b = np.array([5, 10, 15])\n",
    "b"
   ]
  },
  {
   "cell_type": "code",
   "execution_count": 46,
   "id": "d9c0c6f8-f472-4f35-b386-cda8b8f9fc66",
   "metadata": {},
   "outputs": [
    {
     "name": "stdout",
     "output_type": "stream",
     "text": [
      "[ 5 10 15]\n"
     ]
    }
   ],
   "source": [
    "# We can subtract the two arrays and assign it to c:\n",
    "c = np.subtract(a, b)\n",
    "\n",
    "print(c)"
   ]
  },
  {
   "cell_type": "markdown",
   "id": "a07178ef-214b-4f66-a082-4cd4c3421e59",
   "metadata": {},
   "source": [
    "Array Multiplication\n",
    "Consider the vector numpy array y:"
   ]
  },
  {
   "cell_type": "code",
   "execution_count": 47,
   "id": "7018d5e1-ba1e-4614-af5b-44847c8294db",
   "metadata": {},
   "outputs": [
    {
     "data": {
      "text/plain": [
       "array([2, 2])"
      ]
     },
     "execution_count": 47,
     "metadata": {},
     "output_type": "execute_result"
    }
   ],
   "source": [
    "# Create a numpy array\n",
    "\n",
    "x = np.array([1, 2])\n",
    "# Create a numpy array\n",
    "\n",
    "y = np.array([2, 1])\n",
    "# Numpy Array Multiplication\n",
    "\n",
    "z = np.multiply(x, y)\n",
    "z"
   ]
  },
  {
   "cell_type": "markdown",
   "id": "1e493647-5a32-42bc-98e0-36d6522d0879",
   "metadata": {},
   "source": [
    "Array Division\n",
    "Consider the vector numpy array a:\n",
    "\n"
   ]
  },
  {
   "cell_type": "code",
   "execution_count": 48,
   "id": "ef905cea-1cb3-4489-94e2-219eb6d84cf6",
   "metadata": {},
   "outputs": [
    {
     "data": {
      "text/plain": [
       "array([5., 2., 6.])"
      ]
     },
     "execution_count": 48,
     "metadata": {},
     "output_type": "execute_result"
    }
   ],
   "source": [
    "a = np.array([10, 20, 30])\n",
    "b = np.array([2, 10, 5])\n",
    "c = np.divide(a, b)\n",
    "c"
   ]
  },
  {
   "cell_type": "markdown",
   "id": "fb76312a-0430-471d-ba13-8f5fbfe6d403",
   "metadata": {},
   "source": [
    "Dot Product\n",
    "The dot product of the two numpy arrays u and v is given by:"
   ]
  },
  {
   "cell_type": "code",
   "execution_count": 50,
   "id": "de315beb-71ac-4c8d-a19f-1672cabe612a",
   "metadata": {},
   "outputs": [
    {
     "name": "stdout",
     "output_type": "stream",
     "text": [
      "1\n",
      "2\n",
      "3\n",
      "2\n",
      "7\n"
     ]
    }
   ],
   "source": [
    "X = np.array([1, 2])\n",
    "Y = np.array([3, 2])\n",
    "# Calculate the dot product\n",
    "\n",
    "z = np.dot(X, Y)\n",
    "#Elements of X\n",
    "print(X[0])\n",
    "print(X[1])\n",
    "#Elements of Y\n",
    "print(Y[0])\n",
    "print(Y[1])\n",
    "print (z)"
   ]
  },
  {
   "cell_type": "markdown",
   "id": "3370e48d-1b78-457f-83aa-47bd8ad95455",
   "metadata": {},
   "source": [
    "Adding Constant to a Numpy Array\n",
    "Consider the following array:"
   ]
  },
  {
   "cell_type": "code",
   "execution_count": 51,
   "id": "6d1d2ab6-2951-4c3a-8ae8-e63f4b7bd6f5",
   "metadata": {},
   "outputs": [
    {
     "data": {
      "text/plain": [
       "array([2, 3, 4, 0])"
      ]
     },
     "execution_count": 51,
     "metadata": {},
     "output_type": "execute_result"
    }
   ],
   "source": [
    "# Create a constant to numpy array\n",
    "\n",
    "u = np.array([1, 2, 3, -1]) \n",
    "# Add the constant to array\n",
    "\n",
    "u + 1"
   ]
  },
  {
   "cell_type": "markdown",
   "id": "5f7a3a42-990c-40cb-a770-5f13c2d69980",
   "metadata": {},
   "source": [
    "Mathematical Functions\n",
    "We can access the value of pi in numpy as follows :"
   ]
  },
  {
   "cell_type": "code",
   "execution_count": 52,
   "id": "fce70008-78f8-4369-9841-51c9b6446f5c",
   "metadata": {},
   "outputs": [
    {
     "data": {
      "text/plain": [
       "3.141592653589793"
      ]
     },
     "execution_count": 52,
     "metadata": {},
     "output_type": "execute_result"
    }
   ],
   "source": [
    "# The value of pi\n",
    "\n",
    "np.pi"
   ]
  },
  {
   "cell_type": "code",
   "execution_count": 55,
   "id": "921adea7-004a-4989-96f0-743d4905d7c8",
   "metadata": {},
   "outputs": [
    {
     "data": {
      "text/plain": [
       "array([0.0000000e+00, 1.0000000e+00, 1.2246468e-16])"
      ]
     },
     "execution_count": 55,
     "metadata": {},
     "output_type": "execute_result"
    }
   ],
   "source": [
    "# We can create the following numpy array in Radians:\n",
    "# Create the numpy array in radians\n",
    "\n",
    "x = np.array([0, np.pi/2 , np.pi])\n",
    "#We can apply the function sin to the array x and assign the values to the array y; \n",
    "# this applies the sine function to each element in the array\n",
    "# Calculate the sin of each elements\n",
    "\n",
    "y = np.sin(x)\n",
    "y"
   ]
  },
  {
   "cell_type": "markdown",
   "id": "9678aa9a-1048-429d-82f1-4b43722e3e78",
   "metadata": {},
   "source": [
    "Linspace\n",
    "\n",
    "A useful function for plotting mathematical functions is linspace. Linspace returns evenly spaced numbers over a specified interval.\n",
    "\n",
    "numpy.linspace(start, stop, num = int value)\n",
    "\n",
    "start : start of interval range\n",
    "\n",
    "stop : end of interval range\n",
    "\n",
    "num : Number of samples to generate."
   ]
  },
  {
   "cell_type": "code",
   "execution_count": 59,
   "id": "ed1268fd-8033-4ff4-9a11-5bf70abf1900",
   "metadata": {},
   "outputs": [
    {
     "data": {
      "text/plain": [
       "array([-2., -1.,  0.,  1.,  2.])"
      ]
     },
     "execution_count": 59,
     "metadata": {},
     "output_type": "execute_result"
    }
   ],
   "source": [
    "# Makeup a numpy array within [-2, 2] and 5 elements\n",
    "\n",
    "np.linspace(-2, 2, num=5)\n",
    "# If we change the parameter num to 9, we get 9 evenly spaced numbers over the interval from -2 to 2:"
   ]
  },
  {
   "cell_type": "code",
   "execution_count": 61,
   "id": "44218ff5-7ac3-4dfe-8277-7d0b785211b7",
   "metadata": {},
   "outputs": [
    {
     "data": {
      "text/plain": [
       "array([-2. , -1.5, -1. , -0.5,  0. ,  0.5,  1. ,  1.5,  2. ])"
      ]
     },
     "execution_count": 61,
     "metadata": {},
     "output_type": "execute_result"
    }
   ],
   "source": [
    "# Make a numpy array within [-2, 2] and 9 elements\n",
    "\n",
    "np.linspace(-2, 2, num=9)\n",
    "# We can use the function linspace to generate 100 evenly spaced samples from the interval 0 to 2π:"
   ]
  },
  {
   "cell_type": "code",
   "execution_count": 64,
   "id": "2bb579db-e9bc-40b6-9daf-c480617dc3e9",
   "metadata": {},
   "outputs": [
    {
     "data": {
      "text/plain": [
       "[<matplotlib.lines.Line2D at 0x116807250>]"
      ]
     },
     "execution_count": 64,
     "metadata": {},
     "output_type": "execute_result"
    },
    {
     "data": {
      "image/png": "[encoded data removed]",
      "text/plain": [
       "<Figure size 640x480 with 1 Axes>"
      ]
     },
     "metadata": {},
     "output_type": "display_data"
    }
   ],
   "source": [
    "# Make a numpy array within [0, 2π] and 100 elements \n",
    "\n",
    "x = np.linspace(0, 2*np.pi, num=100)\n",
    "# Calculate the sine of x list\n",
    "\n",
    "y = np.sin(x)\n",
    "# Plot the result\n",
    "\n",
    "plt.plot(x, y)"
   ]
  },
  {
   "cell_type": "markdown",
   "id": "36947719-836c-42ae-ba01-90cfeb360f68",
   "metadata": {},
   "source": [
    "Iterating 1-D Arrays\n",
    "Iterating means going through elements one by one.\n",
    "\n",
    "If we iterate on a 1-D array it will go through each element one by one.\n",
    "If we execute the numpy array, we get in the array format"
   ]
  },
  {
   "cell_type": "code",
   "execution_count": 65,
   "id": "d9f0299d-5cc3-4d51-96b0-a423c1785b9e",
   "metadata": {},
   "outputs": [
    {
     "name": "stdout",
     "output_type": "stream",
     "text": [
      "[1 2 3]\n"
     ]
    }
   ],
   "source": [
    "arr1 = np.array([1, 2, 3])\n",
    "print(arr1)"
   ]
  },
  {
   "cell_type": "code",
   "execution_count": 66,
   "id": "204a2deb-c4fc-43b4-b833-4991e398fefa",
   "metadata": {},
   "outputs": [
    {
     "name": "stdout",
     "output_type": "stream",
     "text": [
      "1\n",
      "2\n",
      "3\n"
     ]
    }
   ],
   "source": [
    "# But if you want to result in the form of the list, then you can use for loop:\n",
    "for x in arr1:\n",
    "  print(x)"
   ]
  },
  {
   "cell_type": "markdown",
   "id": "70116e82-5c5c-4f06-90e9-d823e3ed4162",
   "metadata": {},
   "source": [
    "2D Numpy in Python\n",
    "Estimated time needed: 30 minutes\n",
    "\n",
    "Objectives\n",
    "After completing this lab you will be able to:\n",
    "\n",
    "Operate comfortably with numpy\n",
    "Perform complex operations with numpy\n",
    "\n",
    "\n",
    "able of Contents\n",
    "Create a 2D Numpy Array\n",
    "Accessing different elements of a Numpy Array\n",
    "Basic Operations"
   ]
  },
  {
   "cell_type": "markdown",
   "id": "36e97162-cc77-48dc-aa36-fcca1b4faf2f",
   "metadata": {},
   "source": [
    "Create a 2D Numpy Array"
   ]
  },
  {
   "cell_type": "code",
   "execution_count": 71,
   "id": "94e6655a-32ea-40c7-b97a-74e6ce063915",
   "metadata": {},
   "outputs": [
    {
     "data": {
      "text/plain": [
       "[[11, 12, 13], [21, 22, 23], [31, 32, 33]]"
      ]
     },
     "execution_count": 71,
     "metadata": {},
     "output_type": "execute_result"
    }
   ],
   "source": [
    "# Import the libraries\n",
    "\n",
    "import numpy as np\n",
    "# Consider the list a, which contains three nested lists each of equal size.\n",
    "# Create a list\n",
    "\n",
    "a = [[11, 12, 13], [21, 22, 23], [31, 32, 33]]\n",
    "a"
   ]
  },
  {
   "cell_type": "code",
   "execution_count": 74,
   "id": "d28431f9-3b9e-4c6d-86ce-fccc920add3a",
   "metadata": {},
   "outputs": [
    {
     "data": {
      "text/plain": [
       "array([[11, 12, 13],\n",
       "       [21, 22, 23],\n",
       "       [31, 32, 33]])"
      ]
     },
     "execution_count": 74,
     "metadata": {},
     "output_type": "execute_result"
    }
   ],
   "source": [
    "# We can cast the list to a Numpy Array as follows:\n",
    "\n",
    "# Convert list to Numpy Array\n",
    "# Every element is the same type\n",
    "\n",
    "A = np.array(a)\n",
    "A"
   ]
  },
  {
   "cell_type": "code",
   "execution_count": 70,
   "id": "10fa8693-a390-4b77-98dc-5c3ba028655e",
   "metadata": {},
   "outputs": [],
   "source": [
    "# Attribute shape returns a tuple corresponding to the size or number of each dimension."
   ]
  },
  {
   "cell_type": "code",
   "execution_count": 75,
   "id": "7ba75b14-3de9-4cbe-bf7f-58dbd57bd98b",
   "metadata": {},
   "outputs": [
    {
     "data": {
      "text/plain": [
       "(3, 3)"
      ]
     },
     "execution_count": 75,
     "metadata": {},
     "output_type": "execute_result"
    }
   ],
   "source": [
    "# Show the numpy array shape\n",
    "\n",
    "A.shape"
   ]
  },
  {
   "cell_type": "code",
   "execution_count": 76,
   "id": "56b880db-36b2-418d-851f-1c462bb89059",
   "metadata": {},
   "outputs": [
    {
     "data": {
      "text/plain": [
       "9"
      ]
     },
     "execution_count": 76,
     "metadata": {},
     "output_type": "execute_result"
    }
   ],
   "source": [
    "# The total number of elements in the array is given by the attribute size.\n",
    "# Show the numpy array size\n",
    "\n",
    "A.size"
   ]
  },
  {
   "cell_type": "markdown",
   "id": "dbeae48f-7f7a-4b3b-874c-9a4bf8a0cbff",
   "metadata": {},
   "source": [
    "Accessing different elements of a Numpy Array\n",
    "\n",
    "We can use rectangular brackets to access the different elements of the array. The correspondence between the rectangular brackets and the list and the rectangular representation is shown in the following figure for a 3x3 array:"
   ]
  },
  {
   "cell_type": "code",
   "execution_count": 77,
   "id": "c1786bd9-dd2e-4fd6-b2a1-c3398cd86283",
   "metadata": {},
   "outputs": [
    {
     "data": {
      "text/plain": [
       "np.int64(23)"
      ]
     },
     "execution_count": 77,
     "metadata": {},
     "output_type": "execute_result"
    }
   ],
   "source": [
    "# Access the element on the second row and third column\n",
    "\n",
    "A[1, 2]"
   ]
  },
  {
   "cell_type": "code",
   "execution_count": 78,
   "id": "a67818bf-0f2c-46fb-b912-f36d99c3a2f0",
   "metadata": {},
   "outputs": [
    {
     "data": {
      "text/plain": [
       "np.int64(23)"
      ]
     },
     "execution_count": 78,
     "metadata": {},
     "output_type": "execute_result"
    }
   ],
   "source": [
    "# Access the element on the second row and third column\n",
    "\n",
    "A[1][2]"
   ]
  },
  {
   "cell_type": "code",
   "execution_count": 79,
   "id": "ad76773c-aea1-42a9-88fd-b1682171c11f",
   "metadata": {},
   "outputs": [
    {
     "data": {
      "text/plain": [
       "np.int64(11)"
      ]
     },
     "execution_count": 79,
     "metadata": {},
     "output_type": "execute_result"
    }
   ],
   "source": [
    "# Access the element on the first row and first column\n",
    "\n",
    "A[0][0]"
   ]
  },
  {
   "cell_type": "code",
   "execution_count": 80,
   "id": "eed14826-9298-40cc-98d8-b68e7bd4e4a2",
   "metadata": {},
   "outputs": [
    {
     "data": {
      "text/plain": [
       "array([11, 12])"
      ]
     },
     "execution_count": 80,
     "metadata": {},
     "output_type": "execute_result"
    }
   ],
   "source": [
    "# Access the element on the first row and first and second columns\n",
    "\n",
    "A[0][0:2]"
   ]
  },
  {
   "cell_type": "code",
   "execution_count": 81,
   "id": "91d7b6a5-1a51-48ff-8bd2-af07661c2821",
   "metadata": {},
   "outputs": [
    {
     "data": {
      "text/plain": [
       "array([13, 23])"
      ]
     },
     "execution_count": 81,
     "metadata": {},
     "output_type": "execute_result"
    }
   ],
   "source": [
    "# Access the element on the first and second rows and third column\n",
    "\n",
    "A[0:2, 2]"
   ]
  },
  {
   "cell_type": "markdown",
   "id": "2ec23f8f-9a83-4997-9022-4e3fc12c5c99",
   "metadata": {},
   "source": [
    "Basic Operations\n",
    "\n",
    "We can also add arrays. The process is identical to matrix addition. Matrix addition of X and Y is shown in the following figure:"
   ]
  },
  {
   "cell_type": "code",
   "execution_count": 83,
   "id": "14817786-5615-4448-a5cc-9b8b86056b8f",
   "metadata": {},
   "outputs": [
    {
     "data": {
      "text/plain": [
       "array([[1, 0],\n",
       "       [0, 1]])"
      ]
     },
     "execution_count": 83,
     "metadata": {},
     "output_type": "execute_result"
    }
   ],
   "source": [
    "# The numpy array is given by X and Y\n",
    "# Create a numpy array X\n",
    "\n",
    "X = np.array([[1, 0], [0, 1]]) \n",
    "X"
   ]
  },
  {
   "cell_type": "code",
   "execution_count": 84,
   "id": "2e4820bf-bb81-4a42-a8c6-d7845d1f30e7",
   "metadata": {},
   "outputs": [
    {
     "data": {
      "text/plain": [
       "array([[2, 1],\n",
       "       [1, 2]])"
      ]
     },
     "execution_count": 84,
     "metadata": {},
     "output_type": "execute_result"
    }
   ],
   "source": [
    "# Create a numpy array Y\n",
    "\n",
    "Y = np.array([[2, 1], [1, 2]]) \n",
    "Y"
   ]
  },
  {
   "cell_type": "code",
   "execution_count": 85,
   "id": "86768fb3-4bc7-4db3-be55-468fca99378d",
   "metadata": {},
   "outputs": [
    {
     "data": {
      "text/plain": [
       "array([[3, 1],\n",
       "       [1, 3]])"
      ]
     },
     "execution_count": 85,
     "metadata": {},
     "output_type": "execute_result"
    }
   ],
   "source": [
    "# Add X and Y\n",
    "\n",
    "Z = X + Y\n",
    "Z"
   ]
  },
  {
   "cell_type": "code",
   "execution_count": 86,
   "id": "3503a89a-4c97-4ac7-91ef-e0b2c901bd0d",
   "metadata": {},
   "outputs": [
    {
     "data": {
      "text/plain": [
       "array([[2, 1],\n",
       "       [1, 2]])"
      ]
     },
     "execution_count": 86,
     "metadata": {},
     "output_type": "execute_result"
    }
   ],
   "source": [
    "# Create a numpy array Y\n",
    "\n",
    "Y = np.array([[2, 1], [1, 2]]) \n",
    "Y"
   ]
  },
  {
   "cell_type": "code",
   "execution_count": 87,
   "id": "84a41752-3e76-4859-8c01-782922a9535b",
   "metadata": {},
   "outputs": [
    {
     "data": {
      "text/plain": [
       "array([[4, 2],\n",
       "       [2, 4]])"
      ]
     },
     "execution_count": 87,
     "metadata": {},
     "output_type": "execute_result"
    }
   ],
   "source": [
    "# Multiply Y with 2\n",
    "\n",
    "Z = 2 * Y\n",
    "Z"
   ]
  },
  {
   "cell_type": "markdown",
   "id": "04795643-1100-4d0a-8c98-89848b922ed2",
   "metadata": {},
   "source": [
    "Multiplication of two arrays corresponds to an element-wise product or Hadamard product. Consider matrix X and Y. The Hadamard product corresponds to multiplying each of the elements in the same position, i.e. multiplying elements contained in the same color boxes together. The result is a new matrix that is the same size as matrix Y or X, as shown in the following figure."
   ]
  },
  {
   "cell_type": "code",
   "execution_count": 88,
   "id": "39b74b95-5b7c-43db-a5f8-bad16905091d",
   "metadata": {},
   "outputs": [
    {
     "data": {
      "text/plain": [
       "array([[2, 1],\n",
       "       [1, 2]])"
      ]
     },
     "execution_count": 88,
     "metadata": {},
     "output_type": "execute_result"
    }
   ],
   "source": [
    "# We can perform element-wise product of the array X and Y as follows:\n",
    "# Create a numpy array Y\n",
    "\n",
    "Y = np.array([[2, 1], [1, 2]]) \n",
    "Y"
   ]
  },
  {
   "cell_type": "code",
   "execution_count": 89,
   "id": "489e078e-c4d4-4df5-bba3-423df5985177",
   "metadata": {},
   "outputs": [
    {
     "data": {
      "text/plain": [
       "array([[1, 0],\n",
       "       [0, 1]])"
      ]
     },
     "execution_count": 89,
     "metadata": {},
     "output_type": "execute_result"
    }
   ],
   "source": [
    "# Create a numpy array X\n",
    "\n",
    "X = np.array([[1, 0], [0, 1]]) \n",
    "X"
   ]
  },
  {
   "cell_type": "code",
   "execution_count": 90,
   "id": "73ed1ee4-b3d6-4e3e-9c3d-37d8fbb35ec7",
   "metadata": {},
   "outputs": [
    {
     "data": {
      "text/plain": [
       "array([[2, 0],\n",
       "       [0, 2]])"
      ]
     },
     "execution_count": 90,
     "metadata": {},
     "output_type": "execute_result"
    }
   ],
   "source": [
    "# Multiply X with Y\n",
    "\n",
    "Z = X * Y\n",
    "Z"
   ]
  },
  {
   "cell_type": "markdown",
   "id": "b3770c05-06f0-479a-aea3-3154919a987f",
   "metadata": {},
   "source": [
    "We can also perform matrix multiplication with the numpy arrays A and B as follows:\n",
    "\n",
    "First, we define matrix A and B:"
   ]
  },
  {
   "cell_type": "code",
   "execution_count": 91,
   "id": "fe205fce-d7fa-475f-be73-92a9343c56a4",
   "metadata": {},
   "outputs": [
    {
     "data": {
      "text/plain": [
       "array([[0, 1, 1],\n",
       "       [1, 0, 1]])"
      ]
     },
     "execution_count": 91,
     "metadata": {},
     "output_type": "execute_result"
    }
   ],
   "source": [
    "# Create a matrix A\n",
    "\n",
    "A = np.array([[0, 1, 1], [1, 0, 1]])\n",
    "A"
   ]
  },
  {
   "cell_type": "code",
   "execution_count": 92,
   "id": "18e7d435-9082-4efd-845f-775bcee62d0e",
   "metadata": {},
   "outputs": [
    {
     "data": {
      "text/plain": [
       "array([[ 1,  1],\n",
       "       [ 1,  1],\n",
       "       [-1,  1]])"
      ]
     },
     "execution_count": 92,
     "metadata": {},
     "output_type": "execute_result"
    }
   ],
   "source": [
    "# Create a matrix B\n",
    "\n",
    "B = np.array([[1, 1], [1, 1], [-1, 1]])\n",
    "B"
   ]
  },
  {
   "cell_type": "code",
   "execution_count": 93,
   "id": "5de89384-f130-4edc-965f-a2bdadbb82f6",
   "metadata": {},
   "outputs": [
    {
     "data": {
      "text/plain": [
       "array([[0, 2],\n",
       "       [0, 2]])"
      ]
     },
     "execution_count": 93,
     "metadata": {},
     "output_type": "execute_result"
    }
   ],
   "source": [
    "# We use the numpy function dot to multiply the arrays together.\n",
    "# Calculate the dot product\n",
    "\n",
    "Z = np.dot(A,B)\n",
    "Z"
   ]
  },
  {
   "cell_type": "code",
   "execution_count": 94,
   "id": "06ba0548-e19f-4bc4-909b-ff1e4a9c1183",
   "metadata": {},
   "outputs": [
    {
     "data": {
      "text/plain": [
       "array([[0.        , 0.90929743],\n",
       "       [0.        , 0.90929743]])"
      ]
     },
     "execution_count": 94,
     "metadata": {},
     "output_type": "execute_result"
    }
   ],
   "source": [
    "# Calculate the sine of Z\n",
    "\n",
    "np.sin(Z)"
   ]
  },
  {
   "cell_type": "code",
   "execution_count": 95,
   "id": "55a632e9-af09-4538-811e-53e1150c3f78",
   "metadata": {},
   "outputs": [
    {
     "data": {
      "text/plain": [
       "array([[1, 1],\n",
       "       [2, 2],\n",
       "       [3, 3]])"
      ]
     },
     "execution_count": 95,
     "metadata": {},
     "output_type": "execute_result"
    }
   ],
   "source": [
    "# We use the numpy attribute T to calculate the transposed matrix\n",
    "# Create a matrix C\n",
    "\n",
    "C = np.array([[1,1],[2,2],[3,3]])\n",
    "C"
   ]
  },
  {
   "cell_type": "code",
   "execution_count": 96,
   "id": "4d88fc0f-d883-4f96-8389-4c24ed3bf103",
   "metadata": {},
   "outputs": [
    {
     "data": {
      "text/plain": [
       "array([[1, 2, 3],\n",
       "       [1, 2, 3]])"
      ]
     },
     "execution_count": 96,
     "metadata": {},
     "output_type": "execute_result"
    }
   ],
   "source": [
    "# Get the transposed of C\n",
    "\n",
    "C.T"
   ]
  },
  {
   "cell_type": "code",
   "execution_count": null,
   "id": "5a178848-efec-4365-9beb-bb2e8dd715ac",
   "metadata": {},
   "outputs": [],
   "source": []
  },
  {
   "cell_type": "code",
   "execution_count": null,
   "id": "d617fa56-731b-48ed-a45a-448f81d88d29",
   "metadata": {},
   "outputs": [],
   "source": []
  },
  {
   "cell_type": "code",
   "execution_count": null,
   "id": "2a51f27c-1cb2-4bfa-b1d7-171b77befcb7",
   "metadata": {},
   "outputs": [],
   "source": []
  },
  {
   "cell_type": "code",
   "execution_count": null,
   "id": "225e3069-260a-489c-91da-ffb66198bbef",
   "metadata": {},
   "outputs": [],
   "source": []
  },
  {
   "cell_type": "code",
   "execution_count": null,
   "id": "fc6e0393-7fdb-4979-83da-40374fbc5266",
   "metadata": {},
   "outputs": [],
   "source": []
  },
  {
   "cell_type": "code",
   "execution_count": null,
   "id": "42b32536-0d02-43c9-b580-d653307c5b74",
   "metadata": {},
   "outputs": [],
   "source": []
  }
 ],
 "metadata": {
  "kernelspec": {
   "display_name": "Python (myenv)",
   "language": "python",
   "name": "myenv"
  },
  "language_info": {
   "codemirror_mode": {
    "name": "ipython",
    "version": 3
   },
   "file_extension": ".py",
   "mimetype": "text/x-python",
   "name": "python",
   "nbconvert_exporter": "python",
   "pygments_lexer": "ipython3",
   "version": "3.13.3"
  }
 },
 "nbformat": 4,
 "nbformat_minor": 5
}
