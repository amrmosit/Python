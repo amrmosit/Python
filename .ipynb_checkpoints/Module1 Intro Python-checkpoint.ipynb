{
 "cells": [
  {
   "cell_type": "code",
   "execution_count": 1,
   "id": "b92edd5c-a6c0-4ec5-913d-2cc020045c69",
   "metadata": {},
   "outputs": [
    {
     "name": "stdout",
     "output_type": "stream",
     "text": [
      "Hello, Python!\n"
     ]
    }
   ],
   "source": [
    "# Try your first python output\n",
    "print ('Hello, Python!')"
   ]
  },
  {
   "cell_type": "code",
   "execution_count": 3,
   "id": "fb486526-83fd-48d3-9537-36a97da9f276",
   "metadata": {},
   "outputs": [
    {
     "name": "stdout",
     "output_type": "stream",
     "text": [
      "3.13.3 (main, Apr  8 2025, 13:54:08) [Clang 16.0.0 (clang-1600.0.26.6)]\n"
     ]
    }
   ],
   "source": [
    "# Check the python version\n",
    "import sys\n",
    "print(sys.version)"
   ]
  },
  {
   "cell_type": "code",
   "execution_count": 4,
   "id": "c698b380-4f84-4821-b86d-9b9089a30e92",
   "metadata": {},
   "outputs": [
    {
     "name": "stdout",
     "output_type": "stream",
     "text": [
      "17\n"
     ]
    }
   ],
   "source": [
    "z = 2 +15\n",
    "print(z)"
   ]
  },
  {
   "cell_type": "code",
   "execution_count": 8,
   "id": "44dc5ea4-f03e-4f73-8145-6f50ab0d600e",
   "metadata": {},
   "outputs": [
    {
     "data": {
      "text/plain": [
       "11.0"
      ]
     },
     "execution_count": 8,
     "metadata": {},
     "output_type": "execute_result"
    }
   ],
   "source": [
    "# int\n",
    "x = 11\n",
    "type(11)\n",
    "# convert int to float\n",
    "float(x)"
   ]
  },
  {
   "cell_type": "code",
   "execution_count": 14,
   "id": "5716f315-2734-465b-a023-5d78fd1d152e",
   "metadata": {},
   "outputs": [
    {
     "name": "stdout",
     "output_type": "stream",
     "text": [
      "x = 2.14, y= 4.9\n"
     ]
    }
   ],
   "source": [
    "# float\n",
    "x = 2.14\n",
    "type(2.14)\n",
    "int(x)\n",
    "y= 4.9\n",
    "int(y)\n",
    "print(\"x = \"+str(x)+\", y= \"+str(y))"
   ]
  },
  {
   "cell_type": "code",
   "execution_count": 19,
   "id": "48134ea6-ae8c-4ab1-929e-35f4fb4dce89",
   "metadata": {},
   "outputs": [
    {
     "name": "stdout",
     "output_type": "stream",
     "text": [
      "<class 'float'>\n",
      "<class 'str'>\n"
     ]
    }
   ],
   "source": [
    "# str\n",
    "x = \"Hello, Python\"\n",
    "type(x)\n",
    "y = 2.7\n",
    "print(type(y))\n",
    "z = str(y)\n",
    "print(type(z))"
   ]
  },
  {
   "cell_type": "code",
   "execution_count": 20,
   "id": "fe4b23b5-175e-4636-a7c0-a688772012dd",
   "metadata": {},
   "outputs": [
    {
     "name": "stdout",
     "output_type": "stream",
     "text": [
      "1\n",
      "0\n",
      "True\n",
      "False\n"
     ]
    }
   ],
   "source": [
    "# bool data type\n",
    "print(int(True))\n",
    "print(int (False))\n",
    "print(bool(1))\n",
    "print(bool(0))"
   ]
  },
  {
   "cell_type": "code",
   "execution_count": 25,
   "id": "7afc1273-bd0a-4930-bb09-b7a6ba32aea1",
   "metadata": {},
   "outputs": [
    {
     "name": "stdout",
     "output_type": "stream",
     "text": [
      "<class 'bool'>\n",
      "True\n"
     ]
    }
   ],
   "source": [
    "print(type(\"hello\" == \"world\"))\n",
    "print(type(\"hello\") == type(\"world\"))"
   ]
  },
  {
   "cell_type": "code",
   "execution_count": 27,
   "id": "34b63f29-1ce7-4446-97f6-be26340a9c65",
   "metadata": {},
   "outputs": [
    {
     "name": "stdout",
     "output_type": "stream",
     "text": [
      "4.8\n",
      "4\n"
     ]
    }
   ],
   "source": [
    "# division / or //\n",
    "x = 24/5\n",
    "y = 24//5\n",
    "print(x)\n",
    "print(y)"
   ]
  },
  {
   "cell_type": "code",
   "execution_count": 28,
   "id": "0a006a41-edd6-4da7-975f-9459a62557a4",
   "metadata": {},
   "outputs": [
    {
     "name": "stdout",
     "output_type": "stream",
     "text": [
      "Match found!\n"
     ]
    }
   ],
   "source": [
    "import re\n",
    "s1 = \"Thte BodyGuard is the best album\"\n",
    "# Define the pattern to search for\n",
    "pattern = r\"Body\"\n",
    "# Use the search() function to search for the pattern in the string\n",
    "result = re.search(pattern, s1)\n",
    "\n",
    "# check if a match was found\n",
    "if result:\n",
    "    print(\"Match found!\")\n",
    "else:\n",
    "    print(\"Match not found\")"
   ]
  },
  {
   "cell_type": "code",
   "execution_count": 34,
   "id": "7ab9455d-6c4a-408d-b5c4-a2c25cdbf4ee",
   "metadata": {},
   "outputs": [
    {
     "name": "stdout",
     "output_type": "stream",
     "text": [
      "Phone number found: 1234567890\n"
     ]
    }
   ],
   "source": [
    "# Special Sequence Example\n",
    "pattern = r\"\\d\\d\\d\\d\\d\\d\\d\\d\\d\\d\" # Matches any ten consecutive digits\n",
    "text = \"My Phone number is 1234567890\"\n",
    "match = re.search(pattern, text)\n",
    "if match:\n",
    "    print(\"Phone number found:\", match.group()) #match.group() method is used in Python's re module to retrieve the part \n",
    "else:\n",
    "    print(\"No match\")                           #of the string where the regular expression pattern matched. \n",
    "                                                #Here's a detailed explanation\n",
    "                                                #When you use functions like re.search() or re.match(), they return a match \n",
    "                                                #object if the pattern is found. You can then use match.group() \n",
    "                                                #to get the matched text.\n",
    "#Here match.group() retrieves the substring 1234567890 from the text, which is the part that matched the pattern.\n"
   ]
  },
  {
   "cell_type": "code",
   "execution_count": 37,
   "id": "15073256-e71b-41dd-8c46-dbce9528a6f9",
   "metadata": {},
   "outputs": [
    {
     "name": "stdout",
     "output_type": "stream",
     "text": [
      "Matches: [',', ' ', '!']\n"
     ]
    }
   ],
   "source": [
    "# A simple example of using the \\W special sequence in a regular expression pattern with Python code:\n",
    "pattern = r\"\\W\" # Match any non-word character\n",
    "text = \"Hello, world!\"\n",
    "matches = re.findall(pattern, text)\n",
    "print(\"Matches:\", matches)\n",
    "# The regular expression pattern is defined as r\"\\W\", which uses the \\W special sequence to match any character that \n",
    "#is not a word character (a-z, A-Z, 0-9, or _). The string we're searching for matches in is \"Hello, world!\".\n",
    "# The findall() function finds all occurrences of a specified pattern within a string."
   ]
  },
  {
   "cell_type": "code",
   "execution_count": 38,
   "id": "821b5ad2-a1a2-47ab-be4d-2ec1f649f164",
   "metadata": {},
   "outputs": [
    {
     "name": "stdout",
     "output_type": "stream",
     "text": [
      "['st', 'st']\n"
     ]
    }
   ],
   "source": [
    "# The findall() function finds all occurrences of a specified pattern within a string.\n",
    "s2 = \"The BodyGuard is the best album of 'Whitney Houston'.\"\n",
    "\n",
    "\n",
    "# Use the findall() function to find all occurrences of the \"st\" in the string\n",
    "result = re.findall(\"st\", s2)\n",
    "\n",
    "# Print out the list of matched words\n",
    "print(result)"
   ]
  },
  {
   "cell_type": "code",
   "execution_count": 39,
   "id": "ec73f02e-daad-49a0-9fc3-0353794b0e37",
   "metadata": {},
   "outputs": [
    {
     "name": "stdout",
     "output_type": "stream",
     "text": [
      "['The', 'BodyGuard', 'is', 'the', 'best', 'album', 'of', \"'Whitney\", \"Houston'.\"]\n"
     ]
    }
   ],
   "source": [
    "# A regular expression's split() function splits a string into an array of substrings based on a specified pattern.\n",
    "# Use the split function to split the string by the \"\\s\"\n",
    "split_array = re.split(r\"\\s\", s2)\n",
    "\n",
    "# The split_array contains all the substrings, split by whitespace characters\n",
    "print(split_array)"
   ]
  },
  {
   "cell_type": "code",
   "execution_count": 42,
   "id": "76d29f25-73ba-450f-a51e-6f66f097f262",
   "metadata": {},
   "outputs": [
    {
     "name": "stdout",
     "output_type": "stream",
     "text": [
      "The BodyGuard is the best album of 'legend'.\n"
     ]
    }
   ],
   "source": [
    "# The sub function of a regular expression in Python is used to replace all occurrences of a pattern in a string with \n",
    "#a specified replacement.\n",
    "# Define the regular expression pattern to search for\n",
    "pattern = r\"Whitney Houston\"\n",
    "\n",
    "# Define the replacement string\n",
    "replacement = \"legend\"\n",
    "\n",
    "# Use the sub function to replace the pattern with the replacement string\n",
    "new_string = re.sub(pattern, replacement, s2, flags=re.IGNORECASE)\n",
    "\n",
    "# The new_string contains the original string with the pattern replaced by the replacement string\n",
    "print(new_string) \n"
   ]
  },
  {
   "cell_type": "code",
   "execution_count": 43,
   "id": "5fbf6a0e-5b4c-4ff2-8871-6a4ca8603210",
   "metadata": {},
   "outputs": [],
   "source": [
    "# Exercises"
   ]
  },
  {
   "cell_type": "code",
   "execution_count": 46,
   "id": "6b78393e-86fd-43eb-98be-8b65a7fa7f17",
   "metadata": {},
   "outputs": [
    {
     "name": "stdout",
     "output_type": "stream",
     "text": [
      "ABC\n",
      "ABC\n"
     ]
    }
   ],
   "source": [
    "# Consider the variable d use slicing to print out the first three elements:\n",
    "d = \"ABCDEFG\"\n",
    "print(d[0:3])\n",
    "# or\n",
    "print(d[:3])"
   ]
  },
  {
   "cell_type": "code",
   "execution_count": 48,
   "id": "d022d8b4-ccb5-41d4-a9fa-e3dbfda37472",
   "metadata": {},
   "outputs": [
    {
     "name": "stdout",
     "output_type": "stream",
     "text": [
      "correct\n"
     ]
    }
   ],
   "source": [
    "# Use a stride value of 2 to print out every second character of the string e:\n",
    "e = 'clocrkr1e1c1t'\n",
    "print(e[::2])"
   ]
  },
  {
   "cell_type": "code",
   "execution_count": 66,
   "id": "75b601bb-a3ee-4bd1-bbfd-4c7ec48d1ec6",
   "metadata": {},
   "outputs": [
    {
     "name": "stdout",
     "output_type": "stream",
     "text": [
      "\\\n",
      "\\\\\n"
     ]
    }
   ],
   "source": [
    "# Print out a backslash:\n",
    "print(\"\\\\\")\n",
    "\n",
    "#or\n",
    "\n",
    "print(r\"\\\\\")"
   ]
  },
  {
   "cell_type": "code",
   "execution_count": 69,
   "id": "aa01ecd2-7b80-4166-94ba-182408e46f11",
   "metadata": {},
   "outputs": [
    {
     "name": "stdout",
     "output_type": "stream",
     "text": [
      "YOU ARE WRONG\n",
      "you are wrong\n"
     ]
    }
   ],
   "source": [
    "# Write your code below and press Shift+Enter to execute\n",
    "\n",
    "f = \"You are wrong\"\n",
    "f = f.upper()\n",
    "print(f)\n",
    "# to lower case\n",
    "f = f.lower()\n",
    "print(f)"
   ]
  },
  {
   "cell_type": "code",
   "execution_count": 80,
   "id": "5ffe9c66-db4c-4533-bdf9-78d57cf23431",
   "metadata": {},
   "outputs": [
    {
     "name": "stdout",
     "output_type": "stream",
     "text": [
      "95\n",
      "Bob had a little lamb Little lamb, little lamb Bob had a little lamb Its fleece was white as snow And everywhere that Bob went Bob went, Bob went Everywhere that Bob went The lamb was sure to go\n",
      "Mary had a little lamb Little lamb. little lamb Mary had a little lamb Its fleece was white as snow And everywhere that Mary went Mary went. Mary went Everywhere that Mary went The lamb was sure to go\n",
      "['Mary', 'had', 'a', 'little', 'lamb', 'Little', 'lamb,', 'little', 'lamb', 'Mary', 'had', 'a', 'little', 'lamb', 'Its', 'fleece', 'was', 'white', 'as', 'snow', 'And', 'everywhere', 'that', 'Mary', 'went', 'Mary', 'went,', 'Mary', 'went', 'Everywhere', 'that', 'Mary', 'went', 'The', 'lamb', 'was', 'sure', 'to', 'go']\n"
     ]
    }
   ],
   "source": [
    "# Consider the variable g, and find the first index of the sub-string snow:\n",
    "\n",
    "g = \"Mary had a little lamb Little lamb, little lamb Mary had a little lamb \\\n",
    "Its fleece was white as snow And everywhere that Mary went Mary went, Mary went \\\n",
    "Everywhere that Mary went The lamb was sure to go\"\n",
    "\n",
    "print(g.find(\"snow\"))\n",
    "# In the variable g, replace the sub-string Mary with Bob\n",
    "print(g.replace(\"Mary\", \"Bob\"))\n",
    "# In the variable g, replace the sub-string , with .:\n",
    "print(g.replace(\",\", \".\"))\n",
    "# In the variable g, split the substring to list:\n",
    "print(g.split())"
   ]
  },
  {
   "cell_type": "code",
   "execution_count": 82,
   "id": "a82e3304-ca5a-4675-ac60-ee8b49c9c8ab",
   "metadata": {},
   "outputs": [
    {
     "name": "stdout",
     "output_type": "stream",
     "text": [
      "Digit found\n"
     ]
    }
   ],
   "source": [
    "# In the string s3, find whether the digit is present or not using the \\d and search() function:\n",
    "s3 = \"House number- 1105\"\n",
    "result = re.search(r\"\\d\", s3)\n",
    "\n",
    "# check if a match was found\n",
    "if result:\n",
    "    print(\"Digit found\")\n",
    "else:\n",
    "    print(\"Digit not found\")"
   ]
  },
  {
   "cell_type": "code",
   "execution_count": 85,
   "id": "d4a92240-a074-42c1-b706-2ae1eedcf496",
   "metadata": {},
   "outputs": [
    {
     "name": "stdout",
     "output_type": "stream",
     "text": [
      "The quick brown bear jumps over the lazy dog.\n"
     ]
    }
   ],
   "source": [
    "# In the string str1, replace the sub-string fox with bear using sub() function:\n",
    "str1= \"The quick brown fox jumps over the lazy dog.\"\n",
    "pattern = r\"fox\"\n",
    "replacement = \"bear\"\n",
    "new_str1 = re.sub(pattern, replacement, str1, flags=re.IGNORECASE)\n",
    "print(new_str1)\n"
   ]
  },
  {
   "cell_type": "code",
   "execution_count": 91,
   "id": "79d425e3-fc47-475f-83b4-ee6097d1c5b5",
   "metadata": {},
   "outputs": [
    {
     "name": "stdout",
     "output_type": "stream",
     "text": [
      "['woo', 'woo', 'woo', 'woo']\n"
     ]
    }
   ],
   "source": [
    "# In the string str2 find all the occurrences of woo using findall() function:\n",
    "str2= \"How much wood would a woodchuck chuck, if a woodchuck could chuck wood?\"\n",
    "print(re.findall(\"woo\", str2))"
   ]
  },
  {
   "cell_type": "code",
   "execution_count": 92,
   "id": "26b2d186-2d9c-4924-8da4-a494d4184292",
   "metadata": {},
   "outputs": [
    {
     "data": {
      "text/plain": [
       "5"
      ]
     },
     "execution_count": 92,
     "metadata": {},
     "output_type": "execute_result"
    }
   ],
   "source": [
    "\"helloMike\".find(\"Mike\")"
   ]
  },
  {
   "cell_type": "code",
   "execution_count": 93,
   "id": "00c24d61-7ac3-4dec-90da-288b720329f3",
   "metadata": {},
   "outputs": [
    {
     "data": {
      "text/plain": [
       "'Python'"
      ]
     },
     "execution_count": 93,
     "metadata": {},
     "output_type": "execute_result"
    }
   ],
   "source": [
    "x = \"Fun Python\"\n",
    "x[4:10]"
   ]
  },
  {
   "cell_type": "code",
   "execution_count": null,
   "id": "ac4cd4de-4bdd-4c45-8ce8-0faec4362f05",
   "metadata": {},
   "outputs": [],
   "source": []
  }
 ],
 "metadata": {
  "kernelspec": {
   "display_name": "Python 3 (ipykernel)",
   "language": "python",
   "name": "python3"
  },
  "language_info": {
   "codemirror_mode": {
    "name": "ipython",
    "version": 3
   },
   "file_extension": ".py",
   "mimetype": "text/x-python",
   "name": "python",
   "nbconvert_exporter": "python",
   "pygments_lexer": "ipython3",
   "version": "3.13.3"
  }
 },
 "nbformat": 4,
 "nbformat_minor": 5
}
