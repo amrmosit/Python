{
 "cells": [
  {
   "cell_type": "code",
   "execution_count": 1,
   "id": "32ee55a4-8ee4-45bf-a557-c1aa7c400ea5",
   "metadata": {},
   "outputs": [
    {
     "data": {
      "text/plain": [
       "'The Bodyguard'"
      ]
     },
     "execution_count": 1,
     "metadata": {},
     "output_type": "execute_result"
    }
   ],
   "source": [
    "# Create a List\n",
    "L = [\"The Bodyguard\", 7.0, 1992]\n",
    "L[0]"
   ]
  },
  {
   "cell_type": "code",
   "execution_count": 2,
   "id": "4e1ddfff-934d-47cc-921e-f39a80cb0ded",
   "metadata": {},
   "outputs": [
    {
     "name": "stdout",
     "output_type": "stream",
     "text": [
      "the same element using negative and positive indexing:\n",
      " Postive: The Bodyguard \n",
      " Negative: The Bodyguard\n",
      "the same element using negative and positive indexing:\n",
      " Postive: 7.0 \n",
      " Negative: 7.0\n",
      "the same element using negative and positive indexing:\n",
      " Postive: 1992 \n",
      " Negative: 1992\n"
     ]
    }
   ],
   "source": [
    "# Print the elements on each index\n",
    "\n",
    "print('the same element using negative and positive indexing:\\n Postive:',L[0],\n",
    "'\\n Negative:' , L[-3]  )\n",
    "print('the same element using negative and positive indexing:\\n Postive:',L[1],\n",
    "'\\n Negative:' , L[-2]  )\n",
    "print('the same element using negative and positive indexing:\\n Postive:',L[2],\n",
    "'\\n Negative:' , L[-1]  )"
   ]
  },
  {
   "cell_type": "code",
   "execution_count": 3,
   "id": "62b6852f-b3cd-4114-b51c-2a47813413f3",
   "metadata": {},
   "outputs": [],
   "source": [
    "## Quiz on List"
   ]
  },
  {
   "cell_type": "code",
   "execution_count": 15,
   "id": "22f6f7c5-acab-4bbd-a061-3c7d6a0f6056",
   "metadata": {},
   "outputs": [
    {
     "name": "stdout",
     "output_type": "stream",
     "text": [
      "[1, 'hello', [1, 2, 3], True]\n",
      "hello\n",
      "['hello', [1, 2, 3], True]\n"
     ]
    }
   ],
   "source": [
    "#Create a list a_list, with the following elements 1, hello, [1,2,3] and True.\n",
    "list = [1, 'hello', [1,2,3], True]\n",
    "print(list) \n",
    "print(list[1])\n",
    "print(list[1:4])"
   ]
  },
  {
   "cell_type": "code",
   "execution_count": 17,
   "id": "62d0cf5e-bd4d-4b36-81f5-f4bfd5e4f3f9",
   "metadata": {},
   "outputs": [
    {
     "name": "stdout",
     "output_type": "stream",
     "text": [
      "[1, 'a', 2, 1, 'd']\n"
     ]
    }
   ],
   "source": [
    "# Concatenate the following lists A = [1, 'a'] and B = [2, 1, 'd']:\n",
    "A = [1, 'a'] \n",
    "B = [2, 1, 'd']\n",
    "C = A + B\n",
    "print(C)"
   ]
  },
  {
   "cell_type": "markdown",
   "id": "249e6bcd-278f-4ede-9457-07248a2932e6",
   "metadata": {},
   "source": [
    "Task-1 Create an empty list\n",
    "At first we need to create a empty list for storing the items to buy in Shopping list."
   ]
  },
  {
   "cell_type": "markdown",
   "id": "aa897a7c-3544-4061-9f37-61de7234b0c5",
   "metadata": {},
   "source": [
    "shopping_list= []"
   ]
  },
  {
   "cell_type": "markdown",
   "id": "ae7ed400-c20d-4e94-8a69-8e7eea391ad8",
   "metadata": {},
   "source": [
    "Task-2 Now store the number of items to the shopping_list"
   ]
  },
  {
   "cell_type": "code",
   "execution_count": 24,
   "id": "cf7c326d-e4c9-4019-8c8f-3051ebd90398",
   "metadata": {},
   "outputs": [],
   "source": [
    "shopping_list = ['Watch', 'Laptop', 'Shoes', 'Pen', 'Clothes']"
   ]
  },
  {
   "cell_type": "markdown",
   "id": "e4fc21d6-e9e3-4500-8618-e5d1072f0a16",
   "metadata": {},
   "source": [
    "Task-3 Add a new item to the shopping_list\n",
    "Seems like I missed one item \"Football\" to add in the shopping list."
   ]
  },
  {
   "cell_type": "code",
   "execution_count": 31,
   "id": "95aaac83-1a78-4d2d-a8c0-abc00b55a825",
   "metadata": {},
   "outputs": [],
   "source": [
    "shopping_list.append(\"Football\")"
   ]
  },
  {
   "cell_type": "markdown",
   "id": "c1a157c4-fc88-414a-8394-79b137ae0968",
   "metadata": {},
   "source": [
    "Task-4 Print First item from the shopping_list\n",
    "Let's check the first item that we need to buy."
   ]
  },
  {
   "cell_type": "code",
   "execution_count": 28,
   "id": "0b9d11f3-2311-4b4e-9d95-278013d9872d",
   "metadata": {},
   "outputs": [
    {
     "name": "stdout",
     "output_type": "stream",
     "text": [
      "Watch\n"
     ]
    }
   ],
   "source": [
    "print(shopping_list[0])"
   ]
  },
  {
   "cell_type": "markdown",
   "id": "5628147a-4a7c-424f-8c23-3c0eea68ad93",
   "metadata": {},
   "source": [
    "Task-5 Print Last item from the shopping_list\n",
    "Let's check the last time that we need to buy."
   ]
  },
  {
   "cell_type": "code",
   "execution_count": 30,
   "id": "b774495b-30f6-4b12-9995-6a590e876237",
   "metadata": {},
   "outputs": [
    {
     "name": "stdout",
     "output_type": "stream",
     "text": [
      "Football\n"
     ]
    }
   ],
   "source": [
    "print(shopping_list[-1])"
   ]
  },
  {
   "cell_type": "markdown",
   "id": "2a2d1539-7c69-4245-b921-deffb60e6157",
   "metadata": {},
   "source": [
    "# Task-6 Print the entire Shopping List"
   ]
  },
  {
   "cell_type": "code",
   "execution_count": 32,
   "id": "b637dd7a-336c-4b63-b701-a9d607196f9b",
   "metadata": {},
   "outputs": [
    {
     "name": "stdout",
     "output_type": "stream",
     "text": [
      "['Watch', 'Laptop', 'Shoes', 'Pen', 'Clothes', 'Football', 'Football']\n"
     ]
    }
   ],
   "source": [
    "print(shopping_list)"
   ]
  },
  {
   "cell_type": "markdown",
   "id": "9531435a-dfa5-41c2-9fe0-35629be9bc62",
   "metadata": {},
   "source": [
    "Task-7 Print the item that are important to buy from the Shopping List\n",
    "Print \"Laptop\" and \"shoes\""
   ]
  },
  {
   "cell_type": "code",
   "execution_count": 35,
   "id": "2d48ffaa-1d8a-464a-89cf-a2684223192d",
   "metadata": {},
   "outputs": [
    {
     "name": "stdout",
     "output_type": "stream",
     "text": [
      "['Laptop', 'Shoes']\n"
     ]
    }
   ],
   "source": [
    "print(shopping_list[1:3])"
   ]
  },
  {
   "cell_type": "markdown",
   "id": "1c75d5c1-483b-4ac5-be4a-a06e6a7885c7",
   "metadata": {},
   "source": [
    "ask-8 Change the item from the shopping_list\n",
    "Instead of \"Pen\" I want to buy \"Notebook\" let's change the item stored in the list."
   ]
  },
  {
   "cell_type": "code",
   "execution_count": 38,
   "id": "e5dc445e-2099-4829-9d89-15ab12d71a15",
   "metadata": {},
   "outputs": [],
   "source": [
    "shopping_list[3] = \"Notebook\""
   ]
  },
  {
   "cell_type": "code",
   "execution_count": 39,
   "id": "63b2e217-8241-46ac-9810-34d3d747ac07",
   "metadata": {},
   "outputs": [
    {
     "name": "stdout",
     "output_type": "stream",
     "text": [
      "['Watch', 'Laptop', 'Shoes', 'Notebook', 'Clothes', 'Football', 'Football']\n"
     ]
    }
   ],
   "source": [
    "print(shopping_list)"
   ]
  },
  {
   "cell_type": "markdown",
   "id": "c8ad6f71-e2a2-4ee1-80e5-ed8f1f504d47",
   "metadata": {},
   "source": [
    "Task-9 Delete the item from the shopping_list that is not required\n",
    "Let's delete items that are unimportant, such as; I don't want to buy Clothes, let's delete it."
   ]
  },
  {
   "cell_type": "code",
   "execution_count": 40,
   "id": "11a60e9b-e109-4d40-a77b-40da79d3774d",
   "metadata": {},
   "outputs": [
    {
     "name": "stdout",
     "output_type": "stream",
     "text": [
      "['Watch', 'Laptop', 'Shoes', 'Notebook', 'Football', 'Football']\n"
     ]
    }
   ],
   "source": [
    "del(shopping_list[4])\n",
    "print(shopping_list)"
   ]
  },
  {
   "cell_type": "markdown",
   "id": "efc89036-e178-4c36-a911-f3098376f838",
   "metadata": {},
   "source": [
    "Tuples\n",
    "In Python, there are different data types: String, Integer, and Float. These data types can all be contained in a tuple as follows:"
   ]
  },
  {
   "cell_type": "markdown",
   "id": "480c3702-1bcb-46fa-9f33-50e84f43ebc7",
   "metadata": {},
   "source": [
    "Quiz on Tuples\n",
    "Consider the following tuple:\n",
    "# sample tuple\n",
    "\n",
    "genres_tuple = (\"pop\", \"rock\", \"soul\", \"hard rock\", \"soft rock\", \\\n",
    "                \"R&B\", \"progressive rock\", \"disco\") \n",
    "genres_tuple"
   ]
  },
  {
   "cell_type": "code",
   "execution_count": 41,
   "id": "e2eabab4-6092-475d-9ee2-28f0e31c68ec",
   "metadata": {},
   "outputs": [
    {
     "data": {
      "text/plain": [
       "('pop',\n",
       " 'rock',\n",
       " 'soul',\n",
       " 'hard rock',\n",
       " 'soft rock',\n",
       " 'R&B',\n",
       " 'progressive rock',\n",
       " 'disco')"
      ]
     },
     "execution_count": 41,
     "metadata": {},
     "output_type": "execute_result"
    }
   ],
   "source": [
    "genres_tuple = (\"pop\", \"rock\", \"soul\", \"hard rock\", \"soft rock\", \\\n",
    "                \"R&B\", \"progressive rock\", \"disco\") \n",
    "genres_tuple"
   ]
  },
  {
   "cell_type": "code",
   "execution_count": 42,
   "id": "4f0bc69a-7e2e-499a-85b1-372098690429",
   "metadata": {},
   "outputs": [
    {
     "data": {
      "text/plain": [
       "8"
      ]
     },
     "execution_count": 42,
     "metadata": {},
     "output_type": "execute_result"
    }
   ],
   "source": [
    "# Find the length of the tuple, genres_tuple:\n",
    "len(genres_tuple)"
   ]
  },
  {
   "cell_type": "code",
   "execution_count": 45,
   "id": "47cf96d3-a443-479a-9d42-002e093c0dc9",
   "metadata": {},
   "outputs": [
    {
     "data": {
      "text/plain": [
       "'hard rock'"
      ]
     },
     "execution_count": 45,
     "metadata": {},
     "output_type": "execute_result"
    }
   ],
   "source": [
    "# Access the element, with respect to index 3:\n",
    "genres_tuple[3]"
   ]
  },
  {
   "cell_type": "code",
   "execution_count": 46,
   "id": "c02e841a-cf93-4fce-8ae7-48c754f598b7",
   "metadata": {},
   "outputs": [
    {
     "data": {
      "text/plain": [
       "('hard rock', 'soft rock', 'R&B')"
      ]
     },
     "execution_count": 46,
     "metadata": {},
     "output_type": "execute_result"
    }
   ],
   "source": [
    "# Use slicing to obtain indexes 3, 4 and 5:\n",
    "genres_tuple[3:6]"
   ]
  },
  {
   "cell_type": "code",
   "execution_count": 48,
   "id": "033f39e5-ebe5-442b-b640-215cabbd1399",
   "metadata": {},
   "outputs": [
    {
     "data": {
      "text/plain": [
       "('pop', 'rock')"
      ]
     },
     "execution_count": 48,
     "metadata": {},
     "output_type": "execute_result"
    }
   ],
   "source": [
    "# Find the first two elements of the tuple genres_tuple:\n",
    "genres_tuple[0:2]"
   ]
  },
  {
   "cell_type": "code",
   "execution_count": 50,
   "id": "ec89fc72-f171-4b35-a6d7-50f5c42411e1",
   "metadata": {},
   "outputs": [
    {
     "data": {
      "text/plain": [
       "2"
      ]
     },
     "execution_count": 50,
     "metadata": {},
     "output_type": "execute_result"
    }
   ],
   "source": [
    "#Find the index of 's' in \"disco\":\n",
    "\"disco\".find('s')"
   ]
  },
  {
   "cell_type": "code",
   "execution_count": 53,
   "id": "a3f9df66-ec46-4b10-9812-55d60a2c683e",
   "metadata": {},
   "outputs": [
    {
     "data": {
      "text/plain": [
       "[-5, -3, 1]"
      ]
     },
     "execution_count": 53,
     "metadata": {},
     "output_type": "execute_result"
    }
   ],
   "source": [
    "#Generate a sorted List from the Tuple C_tuple=(-5, 1, -3):\n",
    "C_tuple = (-5,1,-3)\n",
    "C_sortedList = sorted(C_tuple)\n",
    "C_sortedList"
   ]
  },
  {
   "cell_type": "code",
   "execution_count": null,
   "id": "bcbd621a-46fd-448b-8373-5c1d7eb5be65",
   "metadata": {},
   "outputs": [],
   "source": []
  }
 ],
 "metadata": {
  "kernelspec": {
   "display_name": "Python 3 (ipykernel)",
   "language": "python",
   "name": "python3"
  },
  "language_info": {
   "codemirror_mode": {
    "name": "ipython",
    "version": 3
   },
   "file_extension": ".py",
   "mimetype": "text/x-python",
   "name": "python",
   "nbconvert_exporter": "python",
   "pygments_lexer": "ipython3",
   "version": "3.13.3"
  }
 },
 "nbformat": 4,
 "nbformat_minor": 5
}
