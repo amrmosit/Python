{
 "cells": [
  {
   "cell_type": "markdown",
   "id": "80c56182-5fe2-4dc0-88df-bd1d39f778d4",
   "metadata": {},
   "source": [
    "Module 3"
   ]
  },
  {
   "cell_type": "markdown",
   "id": "fbd39dfd-a26f-4153-9f0b-d7cbd9b5600b",
   "metadata": {},
   "source": [
    "## Quiz on Conditions\n",
    "Analyze a dataset containing information about renowned athletes, including their names, sports, and notable achievements, to apply conditional logic and filtering techniques."
   ]
  },
  {
   "cell_type": "markdown",
   "id": "421b3a99-e8d8-41bd-b3b3-d867e708d7cf",
   "metadata": {},
   "source": [
    "Player Name\tSport\tAchievements\n",
    "Serena Williams\tTennis\t23 Grand Slams\n",
    "Lionel Messi\tSoccer\t7 Ballon d'Ors\n",
    "Michael Phelps\tSwimming\t23 Gold Medals\n",
    "Usain Bolt\tAthletics\t8 Gold Medals\n",
    "Roger Federer\tTennis\t20 Grand Slams\n",
    "Cristiano Ronaldo\tSoccer\t5 Ballon d'Ors\n"
   ]
  },
  {
   "cell_type": "code",
   "execution_count": 5,
   "id": "fb6e6ce1-94dc-44de-9d68-c721613a3b53",
   "metadata": {},
   "outputs": [
    {
     "name": "stdout",
     "output_type": "stream",
     "text": [
      "Lionel Messi plays Soccer and does not have more than 10 achievements.\n"
     ]
    }
   ],
   "source": [
    "player_name = \"Lionel Messi\"\n",
    "sport = \"Soccer\"\n",
    "achievements = 7\n",
    "if achievements > 10:\n",
    "    print(f\"{player_name} plays {sport} and has {achievements} achievements.\")\n",
    "else:\n",
    "    print(f\"{player_name} plays {sport} and does not have more than 10 achievements.\")"
   ]
  },
  {
   "cell_type": "markdown",
   "id": "0dea2854-ed43-4f72-b3b5-09b9d356159a",
   "metadata": {},
   "source": [
    "Write a Python program to check if a player belongs to the sport Tennis or has exactly 20 achievements. If the condition is true, print a success message."
   ]
  },
  {
   "cell_type": "code",
   "execution_count": 6,
   "id": "afca36de-db13-4d8d-94b8-2d2872c0d763",
   "metadata": {},
   "outputs": [
    {
     "name": "stdout",
     "output_type": "stream",
     "text": [
      "Roger Federer meets the criteria! They play Tennis and have 20 achievements.\n"
     ]
    }
   ],
   "source": [
    "player_name = \"Roger Federer\"\n",
    "sport = \"Tennis\"\n",
    "achievements = 20\n",
    "\n",
    "if sport == \"Tennis\" or achievements == 20:\n",
    "    print(f\"{player_name} meets the criteria! They play {sport} and have {achievements} achievements.\")\n",
    "else:\n",
    "    print(f\"{player_name} does not meet the criteria.\")"
   ]
  },
  {
   "cell_type": "markdown",
   "id": "7d17034e-ec2b-414b-832e-9395c352db6b",
   "metadata": {},
   "source": [
    "# Write a Python program to check if a player has less than 10 achievements and does not play Soccer. Print their details if they meet the criteria."
   ]
  },
  {
   "cell_type": "code",
   "execution_count": 7,
   "id": "4be1f4b1-356f-4bca-ac23-0c0ec996d709",
   "metadata": {},
   "outputs": [
    {
     "name": "stdout",
     "output_type": "stream",
     "text": [
      "Usain Bolt plays Athletics and has only 8 achievements.\n"
     ]
    }
   ],
   "source": [
    "player_name = \"Usain Bolt\"\n",
    "sport = \"Athletics\"\n",
    "achievements = 8\n",
    "\n",
    "if achievements < 10 and sport != \"Soccer\":\n",
    "    print(f\"{player_name} plays {sport} and has only {achievements} achievements.\")\n",
    "else:\n",
    "    print(f\"{player_name} does not meet the criteria.\")"
   ]
  },
  {
   "cell_type": "markdown",
   "id": "ce9a65cb-2e8c-473f-80b0-541d6f773b34",
   "metadata": {},
   "source": [
    "LOOPS\n",
    "## Quiz on Loops"
   ]
  },
  {
   "cell_type": "markdown",
   "id": "01e4b5a8-ad98-4411-af02-f3945bca3187",
   "metadata": {},
   "source": [
    "Write a for loop that prints out all the elements between -5 and 5 using the range function."
   ]
  },
  {
   "cell_type": "code",
   "execution_count": 8,
   "id": "6c44f4b3-66c5-4649-b203-252be9b48f06",
   "metadata": {},
   "outputs": [
    {
     "name": "stdout",
     "output_type": "stream",
     "text": [
      "-4\n",
      "-3\n",
      "-2\n",
      "-1\n",
      "0\n",
      "1\n",
      "2\n",
      "3\n",
      "4\n"
     ]
    }
   ],
   "source": [
    "for i in range(-4, 5):\n",
    "    print (i)"
   ]
  },
  {
   "cell_type": "markdown",
   "id": "9831044f-2688-4492-a4ad-1222275e704c",
   "metadata": {},
   "source": [
    "Print the elements of the following list: Genres=[ 'rock', 'R&B', 'Soundtrack', 'R&B', 'soul', 'pop']. Make sure you follow Python conventions."
   ]
  },
  {
   "cell_type": "code",
   "execution_count": 13,
   "id": "f0462ac4-882e-4168-ba9c-60662d03c19f",
   "metadata": {},
   "outputs": [
    {
     "name": "stdout",
     "output_type": "stream",
     "text": [
      "rock\n",
      "R&B\n",
      "Soundtrack\n",
      "R&B\n",
      "soul\n",
      "pop\n"
     ]
    }
   ],
   "source": [
    "Genres=[ 'rock', 'R&B', 'Soundtrack', 'R&B', 'soul', 'pop']\n",
    "for Genre in Genres:\n",
    "    print(Genre)"
   ]
  },
  {
   "cell_type": "markdown",
   "id": "7e8fe8ba-1b0c-46fc-a782-7ca8d00e3bfb",
   "metadata": {},
   "source": [
    "Write a for loop that prints out the following list: squares=['red', 'yellow', 'green', 'purple', 'blue']"
   ]
  },
  {
   "cell_type": "code",
   "execution_count": 14,
   "id": "50d6d192-294e-400b-93b8-dc1a829783b7",
   "metadata": {},
   "outputs": [
    {
     "name": "stdout",
     "output_type": "stream",
     "text": [
      "red\n",
      "yellow\n",
      "green\n",
      "purple\n",
      "blue\n"
     ]
    }
   ],
   "source": [
    "squares=['red', 'yellow', 'green', 'purple', 'blue']\n",
    "for square in squares:\n",
    "    print(square)"
   ]
  },
  {
   "cell_type": "markdown",
   "id": "30bbc776-fd08-469c-825f-d4b16eb2b585",
   "metadata": {},
   "source": [
    "Write a while loop to display the values of the Rating of an album playlist stored in thePlayListRatings list. If the score is less than 6, exit the loop. The list PlayListRatings is given by: PlayListRatings = [10, 9.5, 10, 8, 7.5, 5, 10, 10]"
   ]
  },
  {
   "cell_type": "code",
   "execution_count": 29,
   "id": "96711a18-2dbe-45fe-87ee-cf3da00c26b3",
   "metadata": {},
   "outputs": [
    {
     "name": "stdout",
     "output_type": "stream",
     "text": [
      "10\n",
      "9.5\n",
      "10\n",
      "8\n",
      "7.5\n"
     ]
    }
   ],
   "source": [
    "PlayListRatings = [10, 9.5, 10, 8, 7.5, 5, 10, 10]\n",
    "i = 0\n",
    "rating = PlayListRatings[i]\n",
    "while (i<len(PlayListRatings) and rating >=6):\n",
    "    print (rating)\n",
    "    i=i+1\n",
    "    rating = PlayListRatings[i]"
   ]
  },
  {
   "cell_type": "markdown",
   "id": "e2711bf2-c19d-421f-9c15-e0c74c5de825",
   "metadata": {},
   "source": [
    "Function"
   ]
  },
  {
   "cell_type": "markdown",
   "id": "0918419e-8511-4c94-8c26-2d4cff1ca978",
   "metadata": {},
   "source": [
    "Come up with a function that divides the first input by the second input:"
   ]
  },
  {
   "cell_type": "code",
   "execution_count": 30,
   "id": "c584da50-b4d0-40a6-85ff-75ee2d3ef735",
   "metadata": {},
   "outputs": [
    {
     "name": "stdout",
     "output_type": "stream",
     "text": [
      "6.666666666666667\n"
     ]
    }
   ],
   "source": [
    "def dev(a,b):\n",
    "    c = a/b\n",
    "    return c\n",
    "print(dev(20,3))"
   ]
  },
  {
   "cell_type": "markdown",
   "id": "885d02db-0d33-4320-b2f5-33e92788c1d0",
   "metadata": {},
   "source": [
    "Write a function code to find total count of word little in the given string: \"Mary had a little lamb Little lamb, little lamb Mary had a little lamb.Its fleece was white as snow And everywhere that Mary went Mary went, Mary went Everywhere that Mary went The lamb was sure to go\"**"
   ]
  },
  {
   "cell_type": "code",
   "execution_count": 37,
   "id": "ce050903-fd17-45ab-845e-105e1d6eb70a",
   "metadata": {},
   "outputs": [
    {
     "name": "stdout",
     "output_type": "stream",
     "text": [
      "3\n"
     ]
    }
   ],
   "source": [
    "def count(string, word):\n",
    "    '''\n",
    "    This function to count the repetation of a word in a string)\n",
    "    '''\n",
    "    #stringList = string.split()\n",
    "    #print(stringList)\n",
    "    occurance = string.count(word)\n",
    "    return print(occurance)\n",
    "\n",
    "\n",
    "string = \"Mary had a little lamb Little lamb, little lamb Mary had a little lamb.Its fleece was white as snow And everywhere that Mary went Mary went, Mary went Everywhere that Mary went The lamb was sure to go\"\n",
    "count(string, \"little\")"
   ]
  },
  {
   "cell_type": "markdown",
   "id": "037c717b-d33d-4718-a055-29153ce2a0f8",
   "metadata": {},
   "source": [
    "Exception Handling"
   ]
  },
  {
   "cell_type": "markdown",
   "id": "4a5936eb-4a8a-40ef-a4f3-8c914c496673",
   "metadata": {},
   "source": [
    "Imagine you have two numbers and want to determine what happens when you divide one number by the other. To do this, you need to create a Python function called safe_divide. You give this function two numbers, a 'numerator' and a 'denominator'. The 'numerator' is the number you want to divide, and the 'denominator' is the number you want to divide by. Use the user input method of Python to take the values.\n",
    "\n",
    "The function should be able to do the division for you and give you the result. But here's the catch: if you try to divide by zero (which is not allowed in math), the function should be smart enough to catch that and tell you that it's not possible to divide by zero. Instead of showing an error, it should return None, which means 'nothing' or 'no value', and print \"Error: Cannot divide by Zero."
   ]
  },
  {
   "cell_type": "code",
   "execution_count": 50,
   "id": "0f9a8890-bca5-434b-bee7-96171d24ddb1",
   "metadata": {},
   "outputs": [
    {
     "name": "stdin",
     "output_type": "stream",
     "text": [
      "Enter the numerator value:  6\n",
      "Enter the denominator value:  0\n"
     ]
    },
    {
     "name": "stdout",
     "output_type": "stream",
     "text": [
      "Error: Cannot divide by zero\n",
      "None\n"
     ]
    }
   ],
   "source": [
    "def safe_divide (numerator, denominator):\n",
    "    try:\n",
    "        result = numerator / denominator\n",
    "        return result\n",
    "    except ZeroDivisionError:\n",
    "        print(\"Error: Cannot divide by zero\")\n",
    "        return None\n",
    "    except ValueError:\n",
    "        print(\"Enter integer values\")\n",
    "# Test Case \n",
    "numerator = int(input(\"Enter the numerator value: \"))\n",
    "denominator = int(input(\"Enter the denominator value: \"))\n",
    "print(safe_divide(numerator, denominator))\n",
    "    "
   ]
  },
  {
   "cell_type": "markdown",
   "id": "2cd57962-536a-4f3a-a9ea-376ac2b03232",
   "metadata": {},
   "source": [
    "Exercise 2: Handling ValueError¶"
   ]
  },
  {
   "cell_type": "markdown",
   "id": "1602c80d-7f8d-4a50-8cfa-2719ce90e578",
   "metadata": {},
   "source": [
    "Imagine you have a number and want to calculate its square root. To do this, you need to create a Python function. You give this function one number, 'number1'.\n",
    "\n",
    "The function should generate the square root value if you provide a positive integer or float value as input. However, the function should be clever enough to detect the mistake if you enter a negative value. It should kindly inform you with a message saying, 'Invalid input! Please enter a positive integer or a float value."
   ]
  },
  {
   "cell_type": "code",
   "execution_count": 58,
   "id": "999a84d6-1d63-47de-8aa3-ce5d7b7894d5",
   "metadata": {},
   "outputs": [
    {
     "name": "stdin",
     "output_type": "stream",
     "text": [
      "Enter a number to caluculate square root:  5\n"
     ]
    },
    {
     "data": {
      "text/plain": [
       "2.23606797749979"
      ]
     },
     "execution_count": 58,
     "metadata": {},
     "output_type": "execute_result"
    }
   ],
   "source": [
    "import math\n",
    "def square_root(number):\n",
    "    try:\n",
    "        result = math.sqrt(number)\n",
    "        return result\n",
    "    except ValueError:\n",
    "        print(\"Error: Invalid input!, Please enter a positive integer or float value\")\n",
    "\n",
    "\n",
    "\n",
    "\n",
    "\n",
    "number = float(input(\"Enter a number to caluculate square root: \"))\n",
    "square_root(number)"
   ]
  },
  {
   "cell_type": "markdown",
   "id": "bcc372a2-938b-4910-8480-6647c2524563",
   "metadata": {},
   "source": [
    "## Exercise 3: Handling Generic Exceptions"
   ]
  },
  {
   "cell_type": "markdown",
   "id": "15e60301-c921-47c3-a5e7-580d7698e578",
   "metadata": {},
   "source": [
    "Imagine you have a number and want to perform a complex mathematical task. The calculation requires dividing the value of the input argument \"num\" by the difference between \"num\" and 5, and the result has to be stored in a variable called \"result\".\n",
    "\n",
    "You have to define a function so that it can perform that complex mathematical task. The function should handle any potential errors that occur during the calculation. To do this, you can use a try-except block. If any exception arises during the calculation, it should catch the error using the generic exception class \"Exception\" as \"e\". When an exception occurs, the function should display \"An error occurred during calculation."
   ]
  },
  {
   "cell_type": "code",
   "execution_count": 60,
   "id": "e61e4625-85df-4578-aa38-017c391ece94",
   "metadata": {},
   "outputs": [
    {
     "name": "stdin",
     "output_type": "stream",
     "text": [
      "Enter a number:  0\n"
     ]
    },
    {
     "name": "stdout",
     "output_type": "stream",
     "text": [
      "Result: -0.0\n"
     ]
    }
   ],
   "source": [
    "def complex_calculation(num):\n",
    "    try:\n",
    "        result = num / (num - 5)\n",
    "        print (f\"Result: {result}\")\n",
    "    except Exception as e:\n",
    "        print(\"An error occurred during calculation.\")\n",
    "# Test case\n",
    "user_input = float(input(\"Enter a number: \"))\n",
    "complex_calculation(user_input)"
   ]
  },
  {
   "cell_type": "markdown",
   "id": "7626f990-d40c-4cd7-b1ab-c1b272e23b07",
   "metadata": {},
   "source": [
    "Classes and Objects in Python¶"
   ]
  },
  {
   "cell_type": "code",
   "execution_count": 75,
   "id": "7d772bf1-0769-4997-9581-21e84dd02ef0",
   "metadata": {},
   "outputs": [
    {
     "ename": "ModuleNotFoundError",
     "evalue": "No module named 'matplotlib'",
     "output_type": "error",
     "traceback": [
      "\u001b[31m---------------------------------------------------------------------------\u001b[39m",
      "\u001b[31mModuleNotFoundError\u001b[39m                       Traceback (most recent call last)",
      "\u001b[36mCell\u001b[39m\u001b[36m \u001b[39m\u001b[32mIn[75]\u001b[39m\u001b[32m, line 4\u001b[39m\n\u001b[32m      1\u001b[39m \u001b[38;5;66;03m# Create a class Circle\u001b[39;00m\n\u001b[32m      2\u001b[39m \u001b[38;5;66;03m# Import the library\u001b[39;00m\n\u001b[32m----> \u001b[39m\u001b[32m4\u001b[39m \u001b[38;5;28;01mimport\u001b[39;00m\u001b[38;5;250m \u001b[39m\u001b[34;01mmatplotlib\u001b[39;00m\u001b[34;01m.\u001b[39;00m\u001b[34;01mpyplot\u001b[39;00m\u001b[38;5;250m \u001b[39m\u001b[38;5;28;01mas\u001b[39;00m\u001b[38;5;250m \u001b[39m\u001b[34;01mplt\u001b[39;00m\n\u001b[32m      5\u001b[39m get_ipython().run_line_magic(\u001b[33m'\u001b[39m\u001b[33mmatplotlib\u001b[39m\u001b[33m'\u001b[39m, \u001b[33m'\u001b[39m\u001b[33minline\u001b[39m\u001b[33m'\u001b[39m)\n\u001b[32m      6\u001b[39m \u001b[38;5;28;01mclass\u001b[39;00m\u001b[38;5;250m \u001b[39m\u001b[34;01mCircle\u001b[39;00m(\u001b[38;5;28mobject\u001b[39m):\n\u001b[32m      7\u001b[39m \n\u001b[32m      8\u001b[39m     \u001b[38;5;66;03m# Constructor\u001b[39;00m\n",
      "\u001b[31mModuleNotFoundError\u001b[39m: No module named 'matplotlib'"
     ]
    }
   ],
   "source": [
    "# Create a class Circle\n",
    "# Import the library\n",
    "\n",
    "import matplotlib.pyplot as plt\n",
    "%matplotlib inline  \n",
    "class Circle(object):\n",
    "    \n",
    "    # Constructor\n",
    "    def __init__(self, radius=3, color='blue'):\n",
    "        self.radius = radius\n",
    "        self.color = color \n",
    "    \n",
    "    # Method\n",
    "    def add_radius(self, r):\n",
    "        self.radius = self.radius + r\n",
    "        return(self.radius)\n",
    "    \n",
    "    # Method\n",
    "    def drawCircle(self):\n",
    "        plt.gca().add_patch(plt.Circle((0, 0), radius=self.radius, fc=self.color))\n",
    "        plt.axis('scaled')\n",
    "        plt.show()  "
   ]
  },
  {
   "cell_type": "code",
   "execution_count": 62,
   "id": "25d7845a-9a1b-4246-a51e-b0295cc82d5d",
   "metadata": {},
   "outputs": [],
   "source": [
    "# Create an object RedCircle\n",
    "\n",
    "RedCircle = Circle(10, 'red')"
   ]
  },
  {
   "cell_type": "code",
   "execution_count": 63,
   "id": "fc82cd3d-683c-47f3-9497-c171af52b830",
   "metadata": {},
   "outputs": [
    {
     "data": {
      "text/plain": [
       "['__class__',\n",
       " '__delattr__',\n",
       " '__dict__',\n",
       " '__dir__',\n",
       " '__doc__',\n",
       " '__eq__',\n",
       " '__firstlineno__',\n",
       " '__format__',\n",
       " '__ge__',\n",
       " '__getattribute__',\n",
       " '__getstate__',\n",
       " '__gt__',\n",
       " '__hash__',\n",
       " '__init__',\n",
       " '__init_subclass__',\n",
       " '__le__',\n",
       " '__lt__',\n",
       " '__module__',\n",
       " '__ne__',\n",
       " '__new__',\n",
       " '__reduce__',\n",
       " '__reduce_ex__',\n",
       " '__repr__',\n",
       " '__setattr__',\n",
       " '__sizeof__',\n",
       " '__static_attributes__',\n",
       " '__str__',\n",
       " '__subclasshook__',\n",
       " '__weakref__',\n",
       " 'add_radius',\n",
       " 'color',\n",
       " 'drawCircle',\n",
       " 'radius']"
      ]
     },
     "execution_count": 63,
     "metadata": {},
     "output_type": "execute_result"
    }
   ],
   "source": [
    "dir(RedCircle)"
   ]
  },
  {
   "cell_type": "code",
   "execution_count": 67,
   "id": "3c85dfb2-2d2e-4921-8e1e-38872c25ab30",
   "metadata": {},
   "outputs": [
    {
     "name": "stdout",
     "output_type": "stream",
     "text": [
      "red\n",
      "10\n"
     ]
    },
    {
     "ename": "NameError",
     "evalue": "name 'plt' is not defined",
     "output_type": "error",
     "traceback": [
      "\u001b[31m---------------------------------------------------------------------------\u001b[39m",
      "\u001b[31mNameError\u001b[39m                                 Traceback (most recent call last)",
      "\u001b[36mCell\u001b[39m\u001b[36m \u001b[39m\u001b[32mIn[67]\u001b[39m\u001b[32m, line 3\u001b[39m\n\u001b[32m      1\u001b[39m \u001b[38;5;28mprint\u001b[39m(RedCircle.color)\n\u001b[32m      2\u001b[39m \u001b[38;5;28mprint\u001b[39m(RedCircle.radius)\n\u001b[32m----> \u001b[39m\u001b[32m3\u001b[39m \u001b[43mRedCircle\u001b[49m\u001b[43m.\u001b[49m\u001b[43mdrawCircle\u001b[49m\u001b[43m(\u001b[49m\u001b[43m)\u001b[49m\n",
      "\u001b[36mCell\u001b[39m\u001b[36m \u001b[39m\u001b[32mIn[61]\u001b[39m\u001b[32m, line 17\u001b[39m, in \u001b[36mCircle.drawCircle\u001b[39m\u001b[34m(self)\u001b[39m\n\u001b[32m     16\u001b[39m \u001b[38;5;28;01mdef\u001b[39;00m\u001b[38;5;250m \u001b[39m\u001b[34mdrawCircle\u001b[39m(\u001b[38;5;28mself\u001b[39m):\n\u001b[32m---> \u001b[39m\u001b[32m17\u001b[39m     \u001b[43mplt\u001b[49m.gca().add_patch(plt.Circle((\u001b[32m0\u001b[39m, \u001b[32m0\u001b[39m), radius=\u001b[38;5;28mself\u001b[39m.radius, fc=\u001b[38;5;28mself\u001b[39m.color))\n\u001b[32m     18\u001b[39m     plt.axis(\u001b[33m'\u001b[39m\u001b[33mscaled\u001b[39m\u001b[33m'\u001b[39m)\n\u001b[32m     19\u001b[39m     plt.show()\n",
      "\u001b[31mNameError\u001b[39m: name 'plt' is not defined"
     ]
    }
   ],
   "source": [
    "print(RedCircle.color)\n",
    "print(RedCircle.radius)\n",
    "RedCircle.drawCircle()"
   ]
  },
  {
   "cell_type": "code",
   "execution_count": null,
   "id": "bc324539-28bd-4648-8821-87c759d52a3f",
   "metadata": {},
   "outputs": [],
   "source": []
  }
 ],
 "metadata": {
  "kernelspec": {
   "display_name": "Python 3 (ipykernel)",
   "language": "python",
   "name": "python3"
  },
  "language_info": {
   "codemirror_mode": {
    "name": "ipython",
    "version": 3
   },
   "file_extension": ".py",
   "mimetype": "text/x-python",
   "name": "python",
   "nbconvert_exporter": "python",
   "pygments_lexer": "ipython3",
   "version": "3.13.3"
  }
 },
 "nbformat": 4,
 "nbformat_minor": 5
}
